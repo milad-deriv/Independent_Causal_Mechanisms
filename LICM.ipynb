{
  "cells": [
    {
      "cell_type": "markdown",
      "metadata": {
        "id": "view-in-github",
        "colab_type": "text"
      },
      "source": [
        "<a href=\"https://colab.research.google.com/github/miladbahrami-fs/Independent_Causal_Mechanisms/blob/main/LICM.ipynb\" target=\"_parent\"><img src=\"https://colab.research.google.com/assets/colab-badge.svg\" alt=\"Open In Colab\"/></a>"
      ]
    },
    {
      "cell_type": "code",
      "source": [
        "!pip install tensorboardX"
      ],
      "metadata": {
        "colab": {
          "base_uri": "https://localhost:8080/"
        },
        "id": "p_1MVp5RbwcT",
        "outputId": "b506cd34-100f-47e9-cd69-639e70647910"
      },
      "execution_count": null,
      "outputs": [
        {
          "output_type": "stream",
          "name": "stdout",
          "text": [
            "Collecting tensorboardX\n",
            "  Downloading tensorboardX-2.6.1-py2.py3-none-any.whl (101 kB)\n",
            "\u001b[?25l     \u001b[90m━━━━━━━━━━━━━━━━━━━━━━━━━━━━━━━━━━━━━━━━\u001b[0m \u001b[32m0.0/101.6 kB\u001b[0m \u001b[31m?\u001b[0m eta \u001b[36m-:--:--\u001b[0m\r\u001b[2K     \u001b[90m━━━━━━━━━━━━━━━━━━━━━━━━━━━━━━━━━━━━━━━\u001b[0m \u001b[32m101.6/101.6 kB\u001b[0m \u001b[31m3.2 MB/s\u001b[0m eta \u001b[36m0:00:00\u001b[0m\n",
            "\u001b[?25hRequirement already satisfied: numpy in /usr/local/lib/python3.10/dist-packages (from tensorboardX) (1.22.4)\n",
            "Requirement already satisfied: packaging in /usr/local/lib/python3.10/dist-packages (from tensorboardX) (23.1)\n",
            "Collecting protobuf>=4.22.3 (from tensorboardX)\n",
            "  Downloading protobuf-4.23.3-cp37-abi3-manylinux2014_x86_64.whl (304 kB)\n",
            "\u001b[2K     \u001b[90m━━━━━━━━━━━━━━━━━━━━━━━━━━━━━━━━━━━━━━\u001b[0m \u001b[32m304.5/304.5 kB\u001b[0m \u001b[31m12.6 MB/s\u001b[0m eta \u001b[36m0:00:00\u001b[0m\n",
            "\u001b[?25hInstalling collected packages: protobuf, tensorboardX\n",
            "  Attempting uninstall: protobuf\n",
            "    Found existing installation: protobuf 3.20.3\n",
            "    Uninstalling protobuf-3.20.3:\n",
            "      Successfully uninstalled protobuf-3.20.3\n",
            "Successfully installed protobuf-4.23.3 tensorboardX-2.6.1\n"
          ]
        }
      ]
    },
    {
      "cell_type": "code",
      "source": [
        "from torchvision import datasets\n",
        "from torchvision import transforms\n",
        "from torch.utils.data import DataLoader\n",
        "import torch\n",
        "import time\n",
        "import os\n",
        "from tensorboardX import SummaryWriter\n",
        "import matplotlib.pyplot as plt"
      ],
      "metadata": {
        "id": "NwwFiDVYtiol"
      },
      "execution_count": null,
      "outputs": []
    },
    {
      "cell_type": "code",
      "source": [
        "# Load dataset\n",
        "# dataset = getattr(datasets, 'MNIST')\n",
        "# train_transform = transforms.Compose([transforms.ToTensor()])\n",
        "# kwargs_train = {'download': True, 'transform': train_transform}\n",
        "# dataset_train = dataset(root='./data', train=True, **kwargs_train)\n",
        "dataset_train = datasets.MNIST(\n",
        "    root=\"data\",\n",
        "    train=True,\n",
        "    download=True,\n",
        "    transform=transforms.ToTensor()\n",
        ")\n",
        "\n",
        "dataset_test = datasets.MNIST(\n",
        "    root=\"data\",\n",
        "    train=False,\n",
        "    download=True,\n",
        "    transform=transforms.ToTensor()\n",
        ")"
      ],
      "metadata": {
        "id": "4_xktOtGtCja"
      },
      "execution_count": null,
      "outputs": []
    },
    {
      "cell_type": "code",
      "source": [
        "# Show Sample Data\n",
        "figure = plt.figure(figsize=(8, 8))\n",
        "cols, rows = 3, 3\n",
        "for i in range(1, cols * rows + 1):\n",
        "    sample_idx = torch.randint(len(dataset_train), size=(1,)).item()\n",
        "    img, label = dataset_train[sample_idx]\n",
        "    figure.add_subplot(rows, cols, i)\n",
        "    plt.axis(\"off\")\n",
        "    plt.imshow(img.squeeze(), cmap=\"gray\")\n",
        "plt.show()"
      ],
      "metadata": {
        "colab": {
          "base_uri": "https://localhost:8080/",
          "height": 653
        },
        "id": "9Ynu63nJdkGu",
        "outputId": "0db63f69-a7e5-402b-c8d4-9709e2c8a9b4"
      },
      "execution_count": null,
      "outputs": [
        {
          "output_type": "display_data",
          "data": {
            "text/plain": [
              "<Figure size 800x800 with 9 Axes>"
            ],
            "image/png": "[encoded data removed]"
          },
          "metadata": {}
        }
      ]
    },
    {
      "cell_type": "code",
      "source": [
        "# Train and Test Dataset Size\n",
        "print('Train Size: {}, Test Size: {}'.format(len(dataset_train),len(dataset_test)))"
      ],
      "metadata": {
        "colab": {
          "base_uri": "https://localhost:8080/"
        },
        "id": "02hY005teIax",
        "outputId": "48299d22-720f-4380-9e95-c0babe684eaa"
      },
      "execution_count": null,
      "outputs": [
        {
          "output_type": "stream",
          "name": "stdout",
          "text": [
            "Train Size: 60000, Test Size: 10000\n"
          ]
        }
      ]
    },
    {
      "cell_type": "code",
      "source": [
        "# Constants\n",
        "outdir = '.' #path to the output directory\n",
        "optimizer_experts = 'adam' # optimization algorithm (options: sgd | adam)\n",
        "optimizer_discriminator ='adam' # optimization algorithm (options: sgd | adam)\n",
        "optimizer_initialize ='adam' # optimization algorithm (options: sgd | adam)\n",
        "batch_size = 128 # input batch size for training\n",
        "input_size = 784 # input size of data\n",
        "epochs = 100 # number of epochs to train\n",
        "epochs_init = 100 # number of epochs to initially train experts\n",
        "no_cuda = False # enables CUDA training\n",
        "seed = 11 # random seed\n",
        "log_interval = 10 # how many batches to wait before logging training status\n",
        "learning_rate_initialize = 1e-1 # size of expert learning rate\n",
        "learning_rate_expert = 1e-3 #size of expert learning rate\n",
        "learning_rate_discriminator =1e-3 # size of discriminator learning rate\n",
        "name = '' #name of experiment\n",
        "weight_decay = 0 # weight decay for optimizer\n",
        "num_experts = 5 # number of experts\n",
        "load_initialized_experts = False # whether to load already pre-trained experts\n",
        "model_for_initialized_experts ='' # path to pre-trained experts\n",
        "cuda = not no_cuda and torch.cuda.is_available()\n",
        "device = torch.device(\"cuda\" if cuda else \"cpu\")"
      ],
      "metadata": {
        "id": "_e5I8bmNfMcB"
      },
      "execution_count": null,
      "outputs": []
    },
    {
      "cell_type": "code",
      "source": [
        "# Create Dataloader from dataset\n",
        "data_train = DataLoader(dataset_train, batch_size=batch_size, shuffle=True, num_workers=int(cuda), pin_memory=cuda)"
      ],
      "metadata": {
        "id": "gvBwnc3MwjvP"
      },
      "execution_count": null,
      "outputs": []
    },
    {
      "cell_type": "markdown",
      "source": [
        "**Model**"
      ],
      "metadata": {
        "id": "A-i5D6oFmp75"
      }
    },
    {
      "cell_type": "code",
      "execution_count": null,
      "metadata": {
        "id": "xk9oaoUcc9SR"
      },
      "outputs": [],
      "source": [
        "import torch.nn as nn"
      ]
    },
    {
      "cell_type": "code",
      "source": [
        "# Random seed\n",
        "torch.manual_seed(seed)\n",
        "torch.manual_seed(seed)\n",
        "if cuda:\n",
        "    torch.cuda.manual_seed_all(seed)\n",
        "\n",
        "# Name of The Experiment\n",
        "timestamp = str(int(time.time()))\n",
        "if name == '':\n",
        "    name = 'n_exp_{}_bs_{}_lri_{}_lre_{}_lrd_{}_ei_{}_e_{}_oi_{}_oe_{}_oe_{}_{}'.format(\n",
        "        num_experts, batch_size, learning_rate_initialize,\n",
        "        learning_rate_expert, learning_rate_discriminator, epochs_init,\n",
        "        epochs, optimizer_initialize, optimizer_experts, optimizer_discriminator,\n",
        "        timestamp)\n",
        "else:\n",
        "    name = '{}_{}'.format(name, timestamp)\n",
        "\n",
        "print('\\nExperiment: {}\\n'.format(name))\n",
        "\n",
        "# Logging. To run: tensorboard --logdir <args.outdir>/logs\n",
        "log_dir = os.path.join(outdir, 'logs')\n",
        "if not os.path.exists(log_dir):\n",
        "    os.mkdir(log_dir)\n",
        "log_dir_exp = os.path.join(log_dir, name)\n",
        "os.mkdir(log_dir_exp)\n",
        "writer = SummaryWriter(log_dir=log_dir_exp)\n",
        "\n",
        "# Directory for checkpoints\n",
        "checkpt_dir = os.path.join(outdir, 'checkpoints')\n",
        "if not os.path.exists(checkpt_dir):\n",
        "    os.mkdir(checkpt_dir)\n"
      ],
      "metadata": {
        "colab": {
          "base_uri": "https://localhost:8080/"
        },
        "id": "UUGYJ5jXgk-8",
        "outputId": "2b093909-883a-40e9-ddd5-de453d420ac6"
      },
      "execution_count": null,
      "outputs": [
        {
          "output_type": "stream",
          "name": "stdout",
          "text": [
            "\n",
            "Experiment: n_exp_5_bs_128_lri_0.1_lre_0.001_lrd_0.001_ei_100_e_100_oi_adam_oe_adam_oe_adam_1687976292\n",
            "\n"
          ]
        }
      ]
    },
    {
      "cell_type": "code",
      "source": [
        "class Expert(nn.Module):\n",
        "\n",
        "    def __init__(self):\n",
        "        super(Expert, self).__init__()\n",
        "\n",
        "        # Architecture\n",
        "        def block(in_feat, out_feat, normalize=True):\n",
        "            layers = [nn.Linear(in_feat, out_feat)]\n",
        "            if normalize:\n",
        "                layers.append(nn.BatchNorm1d(out_feat, 0.8))\n",
        "            layers.append(nn.LeakyReLU(0.2, inplace=True))\n",
        "            return layers\n",
        "\n",
        "        self.model = nn.Sequential(\n",
        "            *block(input_size, 128, normalize=False),\n",
        "            *block(128, 256),\n",
        "            *block(256, 512),\n",
        "            *block(512, 1024),\n",
        "            nn.Linear(1024, input_size),\n",
        "            nn.Tanh()\n",
        "            )\n",
        "\n",
        "    def forward(self, input):\n",
        "        breakpoint()\n",
        "        print(input.shape)\n",
        "        print(input.dtype)\n",
        "        output = self.model(input)\n",
        "        return output"
      ],
      "metadata": {
        "id": "eZZNGeR6eJPD"
      },
      "execution_count": null,
      "outputs": []
    },
    {
      "cell_type": "code",
      "source": [
        "class Discriminator(nn.Module):\n",
        "\n",
        "    def __init__(self):\n",
        "        super(Discriminator, self).__init__()\n",
        "\n",
        "        # Architecture\n",
        "        self.model = nn.Sequential(\n",
        "            nn.Linear(input_size, 512),\n",
        "            nn.LeakyReLU(0.2, inplace=True),\n",
        "            nn.Linear(512, 256),\n",
        "            nn.LeakyReLU(0.2, inplace=True),\n",
        "            nn.Linear(256, 1),\n",
        "            nn.Sigmoid()\n",
        "        )\n",
        "\n",
        "    def forward(self, input):\n",
        "        validity = self.model(input)\n",
        "        return validity"
      ],
      "metadata": {
        "id": "gSjMcQ4cmVn4"
      },
      "execution_count": null,
      "outputs": []
    },
    {
      "cell_type": "code",
      "source": [
        "def initialize_expert(epochs, expert, i, optimizer, loss, data_train, writer):\n",
        "    print(\"Initializing expert [{}] as identity on preturbed data\".format(i+1))\n",
        "    expert.train()\n",
        "    for epoch in range(epochs):\n",
        "        total_loss = 0\n",
        "        n_samples = 0\n",
        "        # breakpoint()\n",
        "        for batch in data_train:\n",
        "            x_canonical, x_transf = batch\n",
        "            batch_size = x_canonical.size(0)\n",
        "            n_samples += batch_size\n",
        "            x_transf = x_transf.view(x_transf.size(0), -1).to(device)\n",
        "            x_transf = x_transf.to(torch.float32)\n",
        "            x_hat = expert(x_transf)\n",
        "            loss_rec = loss(x_hat, x_transf)\n",
        "            total_loss += loss_rec.item()*batch_size\n",
        "            optimizer.zero_grad()\n",
        "            loss_rec.backward()\n",
        "            optimizer.step()\n",
        "\n",
        "        # Loss\n",
        "        mean_loss = total_loss/n_samples\n",
        "        print(\"initialization epoch [{}] expert [{}] loss {:.4f}\".format(epoch+1, i+1, mean_loss))\n",
        "        writer.add_scalar('expert_{}_initialization_loss'.format(i+1), mean_loss, epoch+1)\n",
        "        if mean_loss < 0.002:\n",
        "            break\n",
        "\n",
        "    torch.save(expert.state_dict(), checkpt_dir + '/{}_E_{}_init.pth'.format(name, i + 1))"
      ],
      "metadata": {
        "id": "gda4ox0iAd_1"
      },
      "execution_count": null,
      "outputs": []
    },
    {
      "cell_type": "code",
      "source": [
        "def train_system(epoch, experts, discriminator, optimizers_E, optimizer_D, criterion, data_train, writer):\n",
        "    discriminator.train()\n",
        "    for i, expert in enumerate(experts):\n",
        "        expert.train()\n",
        "\n",
        "    # Labels for canonical vs transformed samples\n",
        "    canonical_label = 1\n",
        "    transformed_label = 0\n",
        "\n",
        "    # Keep track of losses\n",
        "    total_loss_D_canon = 0\n",
        "    total_loss_D_transformed = 0\n",
        "    n_samples = 0\n",
        "    total_loss_expert = [0 for i in range(len(experts))]\n",
        "    total_samples_expert = [0 for i in range(len(experts))]\n",
        "    expert_scores_D = [0 for i in range(len(experts))]\n",
        "    expert_winning_samples_idx = [[] for i in range(len(experts))]\n",
        "\n",
        "    # Iterate through data\n",
        "    for idx, batch in enumerate(data_train):\n",
        "        x_canon, x_transf = batch\n",
        "        # x_transf = torch.randn(x_canon.size()) # TODO temporary since do not have the preturbed data yet\n",
        "        batch_size = x_canon.size(0)\n",
        "        n_samples += batch_size\n",
        "        x_canon = x_canon.view(batch_size, -1).to(device)\n",
        "        x_transf = x_transf.view(batch_size, -1).to(device)\n",
        "\n",
        "        # Train Discriminator on canonical distribution\n",
        "        scores_canon = discriminator(x_canon)\n",
        "        labels = torch.full((batch_size,), canonical_label, device=device).unsqueeze(dim=1)\n",
        "        loss_D_canon = criterion(scores_canon, labels)\n",
        "        total_loss_D_canon += loss_D_canon.item() * batch_size\n",
        "        optimizer_D.zero_grad()\n",
        "        loss_D_canon.backward()\n",
        "\n",
        "        # Train Discriminator on experts output\n",
        "        labels.fill_(transformed_label)\n",
        "        loss_D_transformed = 0\n",
        "        exp_outputs = []\n",
        "        expert_scores = []\n",
        "        for i, expert in enumerate(experts):\n",
        "            exp_output = expert(x_transf)\n",
        "            exp_outputs.append(exp_output.view(batch_size, 1, input_size))\n",
        "            exp_scores = discriminator(exp_output.detach())\n",
        "            expert_scores.append(exp_scores)\n",
        "            loss_D_transformed += criterion(exp_scores, labels)\n",
        "        loss_D_transformed = loss_D_transformed / num_experts\n",
        "        total_loss_D_transformed += loss_D_transformed.item() * batch_size\n",
        "        loss_D_transformed.backward()\n",
        "        optimizer_D.step()\n",
        "\n",
        "        # Train experts\n",
        "        exp_outputs = torch.cat(exp_outputs, dim=1)\n",
        "        expert_scores = torch.cat(expert_scores, dim=1)\n",
        "        mask_winners = expert_scores.argmax(dim=1)\n",
        "\n",
        "        # Update each expert on samples it won\n",
        "        for i, expert in enumerate(experts):\n",
        "            winning_indexes = mask_winners.eq(i).nonzero().squeeze(dim=-1)\n",
        "            accrue = 0 if idx == 0 else 1\n",
        "            expert_winning_samples_idx[i] += (winning_indexes+accrue*n_samples).tolist()\n",
        "            n_expert_samples = winning_indexes.size(0)\n",
        "            if n_expert_samples > 0:\n",
        "                total_samples_expert[i] += n_expert_samples\n",
        "                exp_samples = exp_outputs[winning_indexes, i]\n",
        "                D_E_x_transf = discriminator(exp_samples)\n",
        "                labels = torch.full((n_expert_samples,), canonical_label,\n",
        "                                    device=device).unsqueeze(dim=1)\n",
        "                loss_E = criterion(D_E_x_transf, labels)\n",
        "                total_loss_expert[i] += loss_E.item() * n_expert_samples\n",
        "                optimizers_E[i].zero_grad()\n",
        "                loss_E.backward(retain_graph=True) # TODO figure out why retain graph is necessary\n",
        "                optimizers_E[i].step()\n",
        "                expert_scores_D[i] += D_E_x_transf.squeeze().sum().item()\n",
        "\n",
        "    # Logging\n",
        "    mean_loss_D_generated = total_loss_D_transformed / n_samples\n",
        "    mean_loss_D_canon = total_loss_D_canon / n_samples\n",
        "    print(\"epoch [{}] loss_D_transformed {:.4f}\".format(epoch + 1, mean_loss_D_generated))\n",
        "    print(\"epoch [{}] loss_D_canon {:.4f}\".format(epoch + 1, mean_loss_D_canon))\n",
        "    writer.add_scalar('loss_D_canonical', mean_loss_D_canon, epoch + 1)\n",
        "    writer.add_scalar('loss_D_transformed', mean_loss_D_generated, epoch + 1)\n",
        "    for i in range(len(experts)):\n",
        "        print(\"epoch [{}] expert [{}] n_samples {}\".format(epoch + 1, i + 1, total_samples_expert[i]))\n",
        "        writer.add_scalar('expert_{}_n_samples'.format(i + 1), total_samples_expert[i], epoch + 1)\n",
        "        writer.add_text('expert_{}_winning_samples'.format(i + 1),\n",
        "                           \":\".join([str(j) for j in expert_winning_samples_idx[i]]), epoch + 1)\n",
        "        if total_samples_expert[i]> 0:\n",
        "            mean_loss_expert = total_loss_expert[i] / total_samples_expert[i]\n",
        "            mean_expert_scores = expert_scores_D[i] / total_samples_expert[i]\n",
        "            print(\"epoch [{}] expert [{}] loss {:.4f}\".format(epoch + 1, i + 1, mean_loss_expert))\n",
        "            print(\"epoch [{}] expert [{}] scores {:.4f}\".format(epoch + 1, i + 1, mean_expert_scores))\n",
        "            writer.add_scalar('expert_{}_loss'.format(i + 1), mean_loss_expert, epoch + 1)\n",
        "            writer.add_scalar('expert_{}_scores'.format(i + 1), mean_expert_scores, epoch + 1)"
      ],
      "metadata": {
        "id": "W90mRU5nk4X2"
      },
      "execution_count": null,
      "outputs": []
    },
    {
      "cell_type": "code",
      "source": [
        "def init_weights(model, path):\n",
        "    pre_trained_dict = torch.load(path, map_location=lambda storage, loc: storage)\n",
        "    for layer in pre_trained_dict.keys():\n",
        "        model.state_dict()[layer].copy_(pre_trained_dict[layer])\n",
        "    for param in model.parameters():\n",
        "        param.requires_grad = True"
      ],
      "metadata": {
        "id": "4jyCt9R_hnlh"
      },
      "execution_count": null,
      "outputs": []
    },
    {
      "cell_type": "code",
      "source": [
        "# Model\n",
        "experts = [Expert().to(device) for i in range(num_experts)]\n",
        "discriminator = Discriminator().to(device)"
      ],
      "metadata": {
        "id": "Z2r3Zgel5g0L"
      },
      "execution_count": null,
      "outputs": []
    },
    {
      "cell_type": "code",
      "source": [
        "# Losses\n",
        "loss_initial = torch.nn.MSELoss(reduction='mean')\n",
        "criterion = torch.nn.BCELoss(reduction='mean')"
      ],
      "metadata": {
        "id": "xqGpDxko7qRj"
      },
      "execution_count": null,
      "outputs": []
    },
    {
      "cell_type": "code",
      "source": [
        "# Initialize Experts as approximately Identity on Transformed Data\n",
        "for i, expert in enumerate(experts):\n",
        "    if load_initialized_experts:\n",
        "        path = os.path.join(checkpt_dir,\n",
        "                            model_for_initialized_experts + '_E_{}_init.pth'.format(i+1))\n",
        "        init_weights(expert, path)\n",
        "    else:\n",
        "        if optimizer_initialize == 'adam':\n",
        "            optimizer_E = torch.optim.Adam(expert.parameters(), lr=learning_rate_initialize,\n",
        "                                                weight_decay=weight_decay)\n",
        "        elif optimizer_initialize == 'sgd':\n",
        "            optimizer_E = torch.optim.SGD(expert.parameters(), lr=learning_rate_initialize,\n",
        "                                              weight_decay=weight_decay)\n",
        "        else:\n",
        "            raise NotImplementedError\n",
        "        initialize_expert(epochs_init, expert, i, optimizer_E, loss_initial, data_train, writer)\n"
      ],
      "metadata": {
        "id": "3h1C9aIW9_-v",
        "colab": {
          "base_uri": "https://localhost:8080/",
          "height": 371
        },
        "outputId": "5072e3b0-4ae9-435d-8829-b1c0674bc585"
      },
      "execution_count": null,
      "outputs": [
        {
          "output_type": "stream",
          "name": "stdout",
          "text": [
            "Initializing expert [1] as identity on preturbed data\n"
          ]
        },
        {
          "output_type": "error",
          "ename": "RuntimeError",
          "evalue": "ignored",
          "traceback": [
            "\u001b[0;31m---------------------------------------------------------------------------\u001b[0m",
            "\u001b[0;31mRuntimeError\u001b[0m                              Traceback (most recent call last)",
            "\u001b[0;32m<ipython-input-43-b7e7701bcba8>\u001b[0m in \u001b[0;36m<cell line: 2>\u001b[0;34m()\u001b[0m\n\u001b[1;32m     14\u001b[0m         \u001b[0;32melse\u001b[0m\u001b[0;34m:\u001b[0m\u001b[0;34m\u001b[0m\u001b[0;34m\u001b[0m\u001b[0m\n\u001b[1;32m     15\u001b[0m             \u001b[0;32mraise\u001b[0m \u001b[0mNotImplementedError\u001b[0m\u001b[0;34m\u001b[0m\u001b[0;34m\u001b[0m\u001b[0m\n\u001b[0;32m---> 16\u001b[0;31m         \u001b[0minitialize_expert\u001b[0m\u001b[0;34m(\u001b[0m\u001b[0mepochs_init\u001b[0m\u001b[0;34m,\u001b[0m \u001b[0mexpert\u001b[0m\u001b[0;34m,\u001b[0m \u001b[0mi\u001b[0m\u001b[0;34m,\u001b[0m \u001b[0moptimizer_E\u001b[0m\u001b[0;34m,\u001b[0m \u001b[0mloss_initial\u001b[0m\u001b[0;34m,\u001b[0m \u001b[0mdata_train\u001b[0m\u001b[0;34m,\u001b[0m \u001b[0mwriter\u001b[0m\u001b[0;34m)\u001b[0m\u001b[0;34m\u001b[0m\u001b[0;34m\u001b[0m\u001b[0m\n\u001b[0m",
            "\u001b[0;32m<ipython-input-42-10bd3e3dca53>\u001b[0m in \u001b[0;36minitialize_expert\u001b[0;34m(epochs, expert, i, optimizer, loss, data_train, writer)\u001b[0m\n\u001b[1;32m     12\u001b[0m             \u001b[0mx_transf\u001b[0m \u001b[0;34m=\u001b[0m \u001b[0mx_transf\u001b[0m\u001b[0;34m.\u001b[0m\u001b[0mview\u001b[0m\u001b[0;34m(\u001b[0m\u001b[0mx_transf\u001b[0m\u001b[0;34m.\u001b[0m\u001b[0msize\u001b[0m\u001b[0;34m(\u001b[0m\u001b[0;36m0\u001b[0m\u001b[0;34m)\u001b[0m\u001b[0;34m,\u001b[0m \u001b[0;34m-\u001b[0m\u001b[0;36m1\u001b[0m\u001b[0;34m)\u001b[0m\u001b[0;34m.\u001b[0m\u001b[0mto\u001b[0m\u001b[0;34m(\u001b[0m\u001b[0mdevice\u001b[0m\u001b[0;34m)\u001b[0m\u001b[0;34m\u001b[0m\u001b[0;34m\u001b[0m\u001b[0m\n\u001b[1;32m     13\u001b[0m             \u001b[0mx_transf\u001b[0m \u001b[0;34m=\u001b[0m \u001b[0mx_transf\u001b[0m\u001b[0;34m.\u001b[0m\u001b[0mto\u001b[0m\u001b[0;34m(\u001b[0m\u001b[0mtorch\u001b[0m\u001b[0;34m.\u001b[0m\u001b[0mfloat32\u001b[0m\u001b[0;34m)\u001b[0m\u001b[0;34m\u001b[0m\u001b[0;34m\u001b[0m\u001b[0m\n\u001b[0;32m---> 14\u001b[0;31m             \u001b[0mx_hat\u001b[0m \u001b[0;34m=\u001b[0m \u001b[0mexpert\u001b[0m\u001b[0;34m(\u001b[0m\u001b[0mx_transf\u001b[0m\u001b[0;34m)\u001b[0m\u001b[0;34m\u001b[0m\u001b[0;34m\u001b[0m\u001b[0m\n\u001b[0m\u001b[1;32m     15\u001b[0m             \u001b[0mloss_rec\u001b[0m \u001b[0;34m=\u001b[0m \u001b[0mloss\u001b[0m\u001b[0;34m(\u001b[0m\u001b[0mx_hat\u001b[0m\u001b[0;34m,\u001b[0m \u001b[0mx_transf\u001b[0m\u001b[0;34m)\u001b[0m\u001b[0;34m\u001b[0m\u001b[0;34m\u001b[0m\u001b[0m\n\u001b[1;32m     16\u001b[0m             \u001b[0mtotal_loss\u001b[0m \u001b[0;34m+=\u001b[0m \u001b[0mloss_rec\u001b[0m\u001b[0;34m.\u001b[0m\u001b[0mitem\u001b[0m\u001b[0;34m(\u001b[0m\u001b[0;34m)\u001b[0m\u001b[0;34m*\u001b[0m\u001b[0mbatch_size\u001b[0m\u001b[0;34m\u001b[0m\u001b[0;34m\u001b[0m\u001b[0m\n",
            "\u001b[0;32m/usr/local/lib/python3.10/dist-packages/torch/nn/modules/module.py\u001b[0m in \u001b[0;36m_call_impl\u001b[0;34m(self, *args, **kwargs)\u001b[0m\n\u001b[1;32m   1499\u001b[0m                 \u001b[0;32mor\u001b[0m \u001b[0m_global_backward_pre_hooks\u001b[0m \u001b[0;32mor\u001b[0m \u001b[0m_global_backward_hooks\u001b[0m\u001b[0;34m\u001b[0m\u001b[0;34m\u001b[0m\u001b[0m\n\u001b[1;32m   1500\u001b[0m                 or _global_forward_hooks or _global_forward_pre_hooks):\n\u001b[0;32m-> 1501\u001b[0;31m             \u001b[0;32mreturn\u001b[0m \u001b[0mforward_call\u001b[0m\u001b[0;34m(\u001b[0m\u001b[0;34m*\u001b[0m\u001b[0margs\u001b[0m\u001b[0;34m,\u001b[0m \u001b[0;34m**\u001b[0m\u001b[0mkwargs\u001b[0m\u001b[0;34m)\u001b[0m\u001b[0;34m\u001b[0m\u001b[0;34m\u001b[0m\u001b[0m\n\u001b[0m\u001b[1;32m   1502\u001b[0m         \u001b[0;31m# Do not call functions when jit is used\u001b[0m\u001b[0;34m\u001b[0m\u001b[0;34m\u001b[0m\u001b[0m\n\u001b[1;32m   1503\u001b[0m         \u001b[0mfull_backward_hooks\u001b[0m\u001b[0;34m,\u001b[0m \u001b[0mnon_full_backward_hooks\u001b[0m \u001b[0;34m=\u001b[0m \u001b[0;34m[\u001b[0m\u001b[0;34m]\u001b[0m\u001b[0;34m,\u001b[0m \u001b[0;34m[\u001b[0m\u001b[0;34m]\u001b[0m\u001b[0;34m\u001b[0m\u001b[0;34m\u001b[0m\u001b[0m\n",
            "\u001b[0;32m<ipython-input-9-2a7a856a6804>\u001b[0m in \u001b[0;36mforward\u001b[0;34m(self, input)\u001b[0m\n\u001b[1;32m     22\u001b[0m \u001b[0;34m\u001b[0m\u001b[0m\n\u001b[1;32m     23\u001b[0m     \u001b[0;32mdef\u001b[0m \u001b[0mforward\u001b[0m\u001b[0;34m(\u001b[0m\u001b[0mself\u001b[0m\u001b[0;34m,\u001b[0m \u001b[0minput\u001b[0m\u001b[0;34m)\u001b[0m\u001b[0;34m:\u001b[0m\u001b[0;34m\u001b[0m\u001b[0;34m\u001b[0m\u001b[0m\n\u001b[0;32m---> 24\u001b[0;31m         \u001b[0moutput\u001b[0m \u001b[0;34m=\u001b[0m \u001b[0mself\u001b[0m\u001b[0;34m.\u001b[0m\u001b[0mmodel\u001b[0m\u001b[0;34m(\u001b[0m\u001b[0minput\u001b[0m\u001b[0;34m)\u001b[0m\u001b[0;34m\u001b[0m\u001b[0;34m\u001b[0m\u001b[0m\n\u001b[0m\u001b[1;32m     25\u001b[0m         \u001b[0;32mreturn\u001b[0m \u001b[0moutput\u001b[0m\u001b[0;34m\u001b[0m\u001b[0;34m\u001b[0m\u001b[0m\n",
            "\u001b[0;32m/usr/local/lib/python3.10/dist-packages/torch/nn/modules/module.py\u001b[0m in \u001b[0;36m_call_impl\u001b[0;34m(self, *args, **kwargs)\u001b[0m\n\u001b[1;32m   1499\u001b[0m                 \u001b[0;32mor\u001b[0m \u001b[0m_global_backward_pre_hooks\u001b[0m \u001b[0;32mor\u001b[0m \u001b[0m_global_backward_hooks\u001b[0m\u001b[0;34m\u001b[0m\u001b[0;34m\u001b[0m\u001b[0m\n\u001b[1;32m   1500\u001b[0m                 or _global_forward_hooks or _global_forward_pre_hooks):\n\u001b[0;32m-> 1501\u001b[0;31m             \u001b[0;32mreturn\u001b[0m \u001b[0mforward_call\u001b[0m\u001b[0;34m(\u001b[0m\u001b[0;34m*\u001b[0m\u001b[0margs\u001b[0m\u001b[0;34m,\u001b[0m \u001b[0;34m**\u001b[0m\u001b[0mkwargs\u001b[0m\u001b[0;34m)\u001b[0m\u001b[0;34m\u001b[0m\u001b[0;34m\u001b[0m\u001b[0m\n\u001b[0m\u001b[1;32m   1502\u001b[0m         \u001b[0;31m# Do not call functions when jit is used\u001b[0m\u001b[0;34m\u001b[0m\u001b[0;34m\u001b[0m\u001b[0m\n\u001b[1;32m   1503\u001b[0m         \u001b[0mfull_backward_hooks\u001b[0m\u001b[0;34m,\u001b[0m \u001b[0mnon_full_backward_hooks\u001b[0m \u001b[0;34m=\u001b[0m \u001b[0;34m[\u001b[0m\u001b[0;34m]\u001b[0m\u001b[0;34m,\u001b[0m \u001b[0;34m[\u001b[0m\u001b[0;34m]\u001b[0m\u001b[0;34m\u001b[0m\u001b[0;34m\u001b[0m\u001b[0m\n",
            "\u001b[0;32m/usr/local/lib/python3.10/dist-packages/torch/nn/modules/container.py\u001b[0m in \u001b[0;36mforward\u001b[0;34m(self, input)\u001b[0m\n\u001b[1;32m    215\u001b[0m     \u001b[0;32mdef\u001b[0m \u001b[0mforward\u001b[0m\u001b[0;34m(\u001b[0m\u001b[0mself\u001b[0m\u001b[0;34m,\u001b[0m \u001b[0minput\u001b[0m\u001b[0;34m)\u001b[0m\u001b[0;34m:\u001b[0m\u001b[0;34m\u001b[0m\u001b[0;34m\u001b[0m\u001b[0m\n\u001b[1;32m    216\u001b[0m         \u001b[0;32mfor\u001b[0m \u001b[0mmodule\u001b[0m \u001b[0;32min\u001b[0m \u001b[0mself\u001b[0m\u001b[0;34m:\u001b[0m\u001b[0;34m\u001b[0m\u001b[0;34m\u001b[0m\u001b[0m\n\u001b[0;32m--> 217\u001b[0;31m             \u001b[0minput\u001b[0m \u001b[0;34m=\u001b[0m \u001b[0mmodule\u001b[0m\u001b[0;34m(\u001b[0m\u001b[0minput\u001b[0m\u001b[0;34m)\u001b[0m\u001b[0;34m\u001b[0m\u001b[0;34m\u001b[0m\u001b[0m\n\u001b[0m\u001b[1;32m    218\u001b[0m         \u001b[0;32mreturn\u001b[0m \u001b[0minput\u001b[0m\u001b[0;34m\u001b[0m\u001b[0;34m\u001b[0m\u001b[0m\n\u001b[1;32m    219\u001b[0m \u001b[0;34m\u001b[0m\u001b[0m\n",
            "\u001b[0;32m/usr/local/lib/python3.10/dist-packages/torch/nn/modules/module.py\u001b[0m in \u001b[0;36m_call_impl\u001b[0;34m(self, *args, **kwargs)\u001b[0m\n\u001b[1;32m   1499\u001b[0m                 \u001b[0;32mor\u001b[0m \u001b[0m_global_backward_pre_hooks\u001b[0m \u001b[0;32mor\u001b[0m \u001b[0m_global_backward_hooks\u001b[0m\u001b[0;34m\u001b[0m\u001b[0;34m\u001b[0m\u001b[0m\n\u001b[1;32m   1500\u001b[0m                 or _global_forward_hooks or _global_forward_pre_hooks):\n\u001b[0;32m-> 1501\u001b[0;31m             \u001b[0;32mreturn\u001b[0m \u001b[0mforward_call\u001b[0m\u001b[0;34m(\u001b[0m\u001b[0;34m*\u001b[0m\u001b[0margs\u001b[0m\u001b[0;34m,\u001b[0m \u001b[0;34m**\u001b[0m\u001b[0mkwargs\u001b[0m\u001b[0;34m)\u001b[0m\u001b[0;34m\u001b[0m\u001b[0;34m\u001b[0m\u001b[0m\n\u001b[0m\u001b[1;32m   1502\u001b[0m         \u001b[0;31m# Do not call functions when jit is used\u001b[0m\u001b[0;34m\u001b[0m\u001b[0;34m\u001b[0m\u001b[0m\n\u001b[1;32m   1503\u001b[0m         \u001b[0mfull_backward_hooks\u001b[0m\u001b[0;34m,\u001b[0m \u001b[0mnon_full_backward_hooks\u001b[0m \u001b[0;34m=\u001b[0m \u001b[0;34m[\u001b[0m\u001b[0;34m]\u001b[0m\u001b[0;34m,\u001b[0m \u001b[0;34m[\u001b[0m\u001b[0;34m]\u001b[0m\u001b[0;34m\u001b[0m\u001b[0;34m\u001b[0m\u001b[0m\n",
            "\u001b[0;32m/usr/local/lib/python3.10/dist-packages/torch/nn/modules/linear.py\u001b[0m in \u001b[0;36mforward\u001b[0;34m(self, input)\u001b[0m\n\u001b[1;32m    112\u001b[0m \u001b[0;34m\u001b[0m\u001b[0m\n\u001b[1;32m    113\u001b[0m     \u001b[0;32mdef\u001b[0m \u001b[0mforward\u001b[0m\u001b[0;34m(\u001b[0m\u001b[0mself\u001b[0m\u001b[0;34m,\u001b[0m \u001b[0minput\u001b[0m\u001b[0;34m:\u001b[0m \u001b[0mTensor\u001b[0m\u001b[0;34m)\u001b[0m \u001b[0;34m->\u001b[0m \u001b[0mTensor\u001b[0m\u001b[0;34m:\u001b[0m\u001b[0;34m\u001b[0m\u001b[0;34m\u001b[0m\u001b[0m\n\u001b[0;32m--> 114\u001b[0;31m         \u001b[0;32mreturn\u001b[0m \u001b[0mF\u001b[0m\u001b[0;34m.\u001b[0m\u001b[0mlinear\u001b[0m\u001b[0;34m(\u001b[0m\u001b[0minput\u001b[0m\u001b[0;34m,\u001b[0m \u001b[0mself\u001b[0m\u001b[0;34m.\u001b[0m\u001b[0mweight\u001b[0m\u001b[0;34m,\u001b[0m \u001b[0mself\u001b[0m\u001b[0;34m.\u001b[0m\u001b[0mbias\u001b[0m\u001b[0;34m)\u001b[0m\u001b[0;34m\u001b[0m\u001b[0;34m\u001b[0m\u001b[0m\n\u001b[0m\u001b[1;32m    115\u001b[0m \u001b[0;34m\u001b[0m\u001b[0m\n\u001b[1;32m    116\u001b[0m     \u001b[0;32mdef\u001b[0m \u001b[0mextra_repr\u001b[0m\u001b[0;34m(\u001b[0m\u001b[0mself\u001b[0m\u001b[0;34m)\u001b[0m \u001b[0;34m->\u001b[0m \u001b[0mstr\u001b[0m\u001b[0;34m:\u001b[0m\u001b[0;34m\u001b[0m\u001b[0;34m\u001b[0m\u001b[0m\n",
            "\u001b[0;31mRuntimeError\u001b[0m: mat1 and mat2 shapes cannot be multiplied (128x1 and 784x128)"
          ]
        }
      ]
    },
    {
      "cell_type": "code",
      "source": [
        "# next(iter(data_train))[0].dtype\n",
        "for i, expert in enumerate(experts):\n",
        "  print(expert.parameters)"
      ],
      "metadata": {
        "colab": {
          "base_uri": "https://localhost:8080/"
        },
        "id": "bfDr9CS_Yg7m",
        "outputId": "36ce08f5-83c0-4f60-92a5-08c413e3dfdd"
      },
      "execution_count": null,
      "outputs": [
        {
          "output_type": "stream",
          "name": "stdout",
          "text": [
            "<bound method Module.parameters of Expert(\n",
            "  (model): Sequential(\n",
            "    (0): Linear(in_features=784, out_features=128, bias=True)\n",
            "    (1): LeakyReLU(negative_slope=0.2, inplace=True)\n",
            "    (2): Linear(in_features=128, out_features=256, bias=True)\n",
            "    (3): BatchNorm1d(256, eps=0.8, momentum=0.1, affine=True, track_running_stats=True)\n",
            "    (4): LeakyReLU(negative_slope=0.2, inplace=True)\n",
            "    (5): Linear(in_features=256, out_features=512, bias=True)\n",
            "    (6): BatchNorm1d(512, eps=0.8, momentum=0.1, affine=True, track_running_stats=True)\n",
            "    (7): LeakyReLU(negative_slope=0.2, inplace=True)\n",
            "    (8): Linear(in_features=512, out_features=1024, bias=True)\n",
            "    (9): BatchNorm1d(1024, eps=0.8, momentum=0.1, affine=True, track_running_stats=True)\n",
            "    (10): LeakyReLU(negative_slope=0.2, inplace=True)\n",
            "    (11): Linear(in_features=1024, out_features=784, bias=True)\n",
            "    (12): Tanh()\n",
            "  )\n",
            ")>\n",
            "<bound method Module.parameters of Expert(\n",
            "  (model): Sequential(\n",
            "    (0): Linear(in_features=784, out_features=128, bias=True)\n",
            "    (1): LeakyReLU(negative_slope=0.2, inplace=True)\n",
            "    (2): Linear(in_features=128, out_features=256, bias=True)\n",
            "    (3): BatchNorm1d(256, eps=0.8, momentum=0.1, affine=True, track_running_stats=True)\n",
            "    (4): LeakyReLU(negative_slope=0.2, inplace=True)\n",
            "    (5): Linear(in_features=256, out_features=512, bias=True)\n",
            "    (6): BatchNorm1d(512, eps=0.8, momentum=0.1, affine=True, track_running_stats=True)\n",
            "    (7): LeakyReLU(negative_slope=0.2, inplace=True)\n",
            "    (8): Linear(in_features=512, out_features=1024, bias=True)\n",
            "    (9): BatchNorm1d(1024, eps=0.8, momentum=0.1, affine=True, track_running_stats=True)\n",
            "    (10): LeakyReLU(negative_slope=0.2, inplace=True)\n",
            "    (11): Linear(in_features=1024, out_features=784, bias=True)\n",
            "    (12): Tanh()\n",
            "  )\n",
            ")>\n",
            "<bound method Module.parameters of Expert(\n",
            "  (model): Sequential(\n",
            "    (0): Linear(in_features=784, out_features=128, bias=True)\n",
            "    (1): LeakyReLU(negative_slope=0.2, inplace=True)\n",
            "    (2): Linear(in_features=128, out_features=256, bias=True)\n",
            "    (3): BatchNorm1d(256, eps=0.8, momentum=0.1, affine=True, track_running_stats=True)\n",
            "    (4): LeakyReLU(negative_slope=0.2, inplace=True)\n",
            "    (5): Linear(in_features=256, out_features=512, bias=True)\n",
            "    (6): BatchNorm1d(512, eps=0.8, momentum=0.1, affine=True, track_running_stats=True)\n",
            "    (7): LeakyReLU(negative_slope=0.2, inplace=True)\n",
            "    (8): Linear(in_features=512, out_features=1024, bias=True)\n",
            "    (9): BatchNorm1d(1024, eps=0.8, momentum=0.1, affine=True, track_running_stats=True)\n",
            "    (10): LeakyReLU(negative_slope=0.2, inplace=True)\n",
            "    (11): Linear(in_features=1024, out_features=784, bias=True)\n",
            "    (12): Tanh()\n",
            "  )\n",
            ")>\n",
            "<bound method Module.parameters of Expert(\n",
            "  (model): Sequential(\n",
            "    (0): Linear(in_features=784, out_features=128, bias=True)\n",
            "    (1): LeakyReLU(negative_slope=0.2, inplace=True)\n",
            "    (2): Linear(in_features=128, out_features=256, bias=True)\n",
            "    (3): BatchNorm1d(256, eps=0.8, momentum=0.1, affine=True, track_running_stats=True)\n",
            "    (4): LeakyReLU(negative_slope=0.2, inplace=True)\n",
            "    (5): Linear(in_features=256, out_features=512, bias=True)\n",
            "    (6): BatchNorm1d(512, eps=0.8, momentum=0.1, affine=True, track_running_stats=True)\n",
            "    (7): LeakyReLU(negative_slope=0.2, inplace=True)\n",
            "    (8): Linear(in_features=512, out_features=1024, bias=True)\n",
            "    (9): BatchNorm1d(1024, eps=0.8, momentum=0.1, affine=True, track_running_stats=True)\n",
            "    (10): LeakyReLU(negative_slope=0.2, inplace=True)\n",
            "    (11): Linear(in_features=1024, out_features=784, bias=True)\n",
            "    (12): Tanh()\n",
            "  )\n",
            ")>\n",
            "<bound method Module.parameters of Expert(\n",
            "  (model): Sequential(\n",
            "    (0): Linear(in_features=784, out_features=128, bias=True)\n",
            "    (1): LeakyReLU(negative_slope=0.2, inplace=True)\n",
            "    (2): Linear(in_features=128, out_features=256, bias=True)\n",
            "    (3): BatchNorm1d(256, eps=0.8, momentum=0.1, affine=True, track_running_stats=True)\n",
            "    (4): LeakyReLU(negative_slope=0.2, inplace=True)\n",
            "    (5): Linear(in_features=256, out_features=512, bias=True)\n",
            "    (6): BatchNorm1d(512, eps=0.8, momentum=0.1, affine=True, track_running_stats=True)\n",
            "    (7): LeakyReLU(negative_slope=0.2, inplace=True)\n",
            "    (8): Linear(in_features=512, out_features=1024, bias=True)\n",
            "    (9): BatchNorm1d(1024, eps=0.8, momentum=0.1, affine=True, track_running_stats=True)\n",
            "    (10): LeakyReLU(negative_slope=0.2, inplace=True)\n",
            "    (11): Linear(in_features=1024, out_features=784, bias=True)\n",
            "    (12): Tanh()\n",
            "  )\n",
            ")>\n"
          ]
        }
      ]
    },
    {
      "cell_type": "code",
      "source": [
        "for batch in data_train:\n",
        "    x_canonical, x_transf = batch\n",
        "    print(x_canonical.size(0))\n",
        "    print(x_transf.shape)\n",
        "    print(x_transf.view(x_transf.size(0), -1).shape)\n",
        "    break"
      ],
      "metadata": {
        "colab": {
          "base_uri": "https://localhost:8080/"
        },
        "id": "Mxib8FzIpku0",
        "outputId": "2994b001-04bb-4743-bfe7-c98f4585f21b"
      },
      "execution_count": null,
      "outputs": [
        {
          "output_type": "stream",
          "name": "stdout",
          "text": [
            "128\n",
            "torch.Size([128])\n",
            "torch.Size([128, 1])\n"
          ]
        }
      ]
    },
    {
      "cell_type": "code",
      "source": [
        "# Optimizers\n",
        "optimizers_E = []\n",
        "for i in range(num_experts):\n",
        "    if optimizer_experts == 'adam':\n",
        "        optimizer_E = torch.optim.Adam(experts[i].parameters(), lr=learning_rate_expert,\n",
        "                                        weight_decay=weight_decay)\n",
        "    elif optimizer_experts == 'sgd':\n",
        "        optimizer_E = torch.optim.SGD(experts[i].parameters(), lr=learning_rate_expert,\n",
        "                                      weight_decay=weight_decay)\n",
        "    else:\n",
        "        raise NotImplementedError\n",
        "    optimizers_E.append(optimizer_E)\n",
        "\n",
        "if optimizer_discriminator == 'adam':\n",
        "    optimizer_D = torch.optim.Adam(discriminator.parameters(), lr=learning_rate_discriminator,\n",
        "                                    weight_decay=weight_decay)\n",
        "elif optimizer_discriminator == 'sgd':\n",
        "    optimizer_D = torch.optim.SGD(discriminator.parameters(), lr=learning_rate_discriminator,\n",
        "                                    weight_decay=weight_decay)"
      ],
      "metadata": {
        "id": "ui8oNaL5kNKu"
      },
      "execution_count": null,
      "outputs": []
    },
    {
      "cell_type": "code",
      "source": [
        "# Training\n",
        "for epoch in range(epochs):\n",
        "    train_system(epoch, experts, discriminator, optimizers_E, optimizer_D, criterion, data_train, writer)\n",
        "\n",
        "    if epoch % log_interval == 0 or epoch == epochs-1:\n",
        "        torch.save(discriminator.state_dict(), checkpt_dir + '/{}_D.pth'.format(name))\n",
        "        for i in range(num_experts):\n",
        "            torch.save(experts[i].state_dict(), checkpt_dir + '/{}_E_{}.pth'.format(name, i+1))"
      ],
      "metadata": {
        "id": "72r4wwfXkiAE"
      },
      "execution_count": null,
      "outputs": []
    }
  ],
  "metadata": {
    "colab": {
      "provenance": [],
      "authorship_tag": "ABX9TyPgfaICUcTwH19p7rclfnyu",
      "include_colab_link": true
    },
    "kernelspec": {
      "display_name": "Python 3",
      "name": "python3"
    },
    "language_info": {
      "name": "python"
    }
  },
  "nbformat": 4,
  "nbformat_minor": 0
}