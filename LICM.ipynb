{
  "cells": [
    {
      "cell_type": "markdown",
      "metadata": {
        "id": "view-in-github",
        "colab_type": "text"
      },
      "source": [
        "<a href=\"https://colab.research.google.com/github/miladbahrami-fs/Independent_Causal_Mechanisms/blob/main/LICM.ipynb\" target=\"_parent\"><img src=\"https://colab.research.google.com/assets/colab-badge.svg\" alt=\"Open In Colab\"/></a>"
      ]
    },
    {
      "cell_type": "code",
      "source": [
        "!pip install tensorboardX"
      ],
      "metadata": {
        "colab": {
          "base_uri": "https://localhost:8080/"
        },
        "id": "p_1MVp5RbwcT",
        "outputId": "bc4bd981-7a09-4e4e-a555-7f9c8db654a5"
      },
      "execution_count": 1,
      "outputs": [
        {
          "output_type": "stream",
          "name": "stdout",
          "text": [
            "Collecting tensorboardX\n",
            "  Downloading tensorboardX-2.6.1-py2.py3-none-any.whl (101 kB)\n",
            "\u001b[?25l     \u001b[90m━━━━━━━━━━━━━━━━━━━━━━━━━━━━━━━━━━━━━━━━\u001b[0m \u001b[32m0.0/101.6 kB\u001b[0m \u001b[31m?\u001b[0m eta \u001b[36m-:--:--\u001b[0m\r\u001b[2K     \u001b[90m━━━━━━━━━━━━━━━━━━━━━━━━━━━━━━━━━━━━━━\u001b[0m \u001b[32m101.6/101.6 kB\u001b[0m \u001b[31m10.4 MB/s\u001b[0m eta \u001b[36m0:00:00\u001b[0m\n",
            "\u001b[?25hRequirement already satisfied: numpy in /usr/local/lib/python3.10/dist-packages (from tensorboardX) (1.22.4)\n",
            "Requirement already satisfied: packaging in /usr/local/lib/python3.10/dist-packages (from tensorboardX) (23.1)\n",
            "Collecting protobuf>=4.22.3 (from tensorboardX)\n",
            "  Downloading protobuf-4.23.3-cp37-abi3-manylinux2014_x86_64.whl (304 kB)\n",
            "\u001b[2K     \u001b[90m━━━━━━━━━━━━━━━━━━━━━━━━━━━━━━━━━━━━━━\u001b[0m \u001b[32m304.5/304.5 kB\u001b[0m \u001b[31m32.8 MB/s\u001b[0m eta \u001b[36m0:00:00\u001b[0m\n",
            "\u001b[?25hInstalling collected packages: protobuf, tensorboardX\n",
            "  Attempting uninstall: protobuf\n",
            "    Found existing installation: protobuf 3.20.3\n",
            "    Uninstalling protobuf-3.20.3:\n",
            "      Successfully uninstalled protobuf-3.20.3\n",
            "Successfully installed protobuf-4.23.3 tensorboardX-2.6.1\n"
          ]
        }
      ]
    },
    {
      "cell_type": "code",
      "source": [
        "# Importing Libraries\n",
        "from torchvision import datasets\n",
        "from torchvision import transforms\n",
        "from torch.utils.data import DataLoader, Subset, ConcatDataset\n",
        "import torch\n",
        "import time\n",
        "import os\n",
        "from tensorboardX import SummaryWriter\n",
        "import matplotlib.pyplot as plt"
      ],
      "metadata": {
        "id": "NwwFiDVYtiol"
      },
      "execution_count": 2,
      "outputs": []
    },
    {
      "cell_type": "code",
      "source": [
        "# Constants\n",
        "outdir = '.' #path to the output directory\n",
        "optimizer_experts = 'adam' # optimization algorithm (options: sgd | adam)\n",
        "optimizer_discriminator ='adam' # optimization algorithm (options: sgd | adam)\n",
        "optimizer_initialize ='adam' # optimization algorithm (options: sgd | adam)\n",
        "batch_size = 32 # input batch size for training\n",
        "input_size = 784 # input size of data\n",
        "epochs = 100 # number of epochs to train\n",
        "epochs_init = 100 # number of epochs to initially train experts\n",
        "no_cuda = False # enables CUDA training\n",
        "seed = 11 # random seed\n",
        "log_interval = 10 # how many batches to wait before logging training status\n",
        "learning_rate_initialize = 1e-1 # size of expert learning rate\n",
        "learning_rate_expert = 1e-3 #size of expert learning rate\n",
        "learning_rate_discriminator =1e-3 # size of discriminator learning rate\n",
        "name = '' #name of experiment\n",
        "weight_decay = 0 # weight decay for optimizer\n",
        "num_experts = 5 # number of experts\n",
        "load_initialized_experts = False # whether to load already pre-trained experts\n",
        "model_for_initialized_experts ='' # path to pre-trained experts\n",
        "cuda = not no_cuda and torch.cuda.is_available()\n",
        "device = torch.device(\"cuda\" if cuda else \"cpu\")"
      ],
      "metadata": {
        "id": "34dGwRNq-rid"
      },
      "execution_count": 3,
      "outputs": []
    },
    {
      "cell_type": "code",
      "source": [
        "# Load dataset Original\n",
        "transform_org = transforms.Compose([\n",
        "    transforms.ToTensor(),\n",
        "    transforms.Normalize((0.1307,), (0.3081,))\n",
        "])\n",
        "dataset_train = datasets.MNIST(\n",
        "    root=\"data\",\n",
        "    train=True,\n",
        "    download=True,\n",
        "    transform=transform_org\n",
        ")\n",
        "\n",
        "dataset_test = datasets.MNIST(\n",
        "    root=\"data\",\n",
        "    train=False,\n",
        "    download=True,\n",
        "    transform=transform_org\n",
        ")\n",
        "\n",
        "# Create Dataloader from orginal dataset\n",
        "data_train = DataLoader(dataset_train, batch_size=batch_size, shuffle=True, num_workers=int(cuda), pin_memory=cuda)"
      ],
      "metadata": {
        "id": "4_xktOtGtCja",
        "colab": {
          "base_uri": "https://localhost:8080/"
        },
        "outputId": "f0c3c9b9-5bd2-4ae3-9b76-08ba826e8d5a"
      },
      "execution_count": 4,
      "outputs": [
        {
          "output_type": "stream",
          "name": "stdout",
          "text": [
            "Downloading http://yann.lecun.com/exdb/mnist/train-images-idx3-ubyte.gz\n",
            "Downloading http://yann.lecun.com/exdb/mnist/train-images-idx3-ubyte.gz to data/MNIST/raw/train-images-idx3-ubyte.gz\n"
          ]
        },
        {
          "output_type": "stream",
          "name": "stderr",
          "text": [
            "100%|██████████| 9912422/9912422 [00:00<00:00, 282073851.84it/s]"
          ]
        },
        {
          "output_type": "stream",
          "name": "stdout",
          "text": [
            "Extracting data/MNIST/raw/train-images-idx3-ubyte.gz to data/MNIST/raw\n"
          ]
        },
        {
          "output_type": "stream",
          "name": "stderr",
          "text": [
            "\n"
          ]
        },
        {
          "output_type": "stream",
          "name": "stdout",
          "text": [
            "\n",
            "Downloading http://yann.lecun.com/exdb/mnist/train-labels-idx1-ubyte.gz\n",
            "Downloading http://yann.lecun.com/exdb/mnist/train-labels-idx1-ubyte.gz to data/MNIST/raw/train-labels-idx1-ubyte.gz\n"
          ]
        },
        {
          "output_type": "stream",
          "name": "stderr",
          "text": [
            "100%|██████████| 28881/28881 [00:00<00:00, 44033331.09it/s]\n"
          ]
        },
        {
          "output_type": "stream",
          "name": "stdout",
          "text": [
            "Extracting data/MNIST/raw/train-labels-idx1-ubyte.gz to data/MNIST/raw\n",
            "\n",
            "Downloading http://yann.lecun.com/exdb/mnist/t10k-images-idx3-ubyte.gz\n",
            "Downloading http://yann.lecun.com/exdb/mnist/t10k-images-idx3-ubyte.gz to data/MNIST/raw/t10k-images-idx3-ubyte.gz\n"
          ]
        },
        {
          "output_type": "stream",
          "name": "stderr",
          "text": [
            "100%|██████████| 1648877/1648877 [00:00<00:00, 182506238.37it/s]"
          ]
        },
        {
          "output_type": "stream",
          "name": "stdout",
          "text": [
            "Extracting data/MNIST/raw/t10k-images-idx3-ubyte.gz to data/MNIST/raw\n",
            "\n",
            "Downloading http://yann.lecun.com/exdb/mnist/t10k-labels-idx1-ubyte.gz\n",
            "Downloading http://yann.lecun.com/exdb/mnist/t10k-labels-idx1-ubyte.gz to data/MNIST/raw/t10k-labels-idx1-ubyte.gz\n"
          ]
        },
        {
          "output_type": "stream",
          "name": "stderr",
          "text": [
            "\n",
            "100%|██████████| 4542/4542 [00:00<00:00, 7418430.21it/s]\n"
          ]
        },
        {
          "output_type": "stream",
          "name": "stdout",
          "text": [
            "Extracting data/MNIST/raw/t10k-labels-idx1-ubyte.gz to data/MNIST/raw\n",
            "\n"
          ]
        }
      ]
    },
    {
      "cell_type": "code",
      "source": [
        "# Show Sample Data from Orginal Dataset\n",
        "figure = plt.figure(figsize=(8, 8))\n",
        "cols, rows = 3, 3\n",
        "for i in range(1, cols * rows + 1):\n",
        "    sample_idx = torch.randint(len(dataset_train), size=(1,)).item()\n",
        "    img, label = dataset_train[sample_idx]\n",
        "    figure.add_subplot(rows, cols, i)\n",
        "    plt.axis(\"off\")\n",
        "    plt.imshow(img.squeeze(), cmap=\"gray\")\n",
        "plt.show()\n",
        "\n",
        "# Train and Test Dataset Size\n",
        "print('Train Size: {}, Test Size: {}'.format(len(dataset_train),len(dataset_test)))"
      ],
      "metadata": {
        "colab": {
          "base_uri": "https://localhost:8080/",
          "height": 671
        },
        "id": "9Ynu63nJdkGu",
        "outputId": "8901cc85-be60-4092-bbec-f659bdb3c9ec"
      },
      "execution_count": 5,
      "outputs": [
        {
          "output_type": "display_data",
          "data": {
            "text/plain": [
              "<Figure size 800x800 with 9 Axes>"
            ],
            "image/png": "[encoded data removed]"
          },
          "metadata": {}
        },
        {
          "output_type": "stream",
          "name": "stdout",
          "text": [
            "Train Size: 60000, Test Size: 10000\n"
          ]
        }
      ]
    },
    {
      "cell_type": "code",
      "source": [
        "class AddGaussianNoise(object):\n",
        "    def __init__(self, mean=0., std=1.):\n",
        "        self.std = std\n",
        "        self.mean = mean\n",
        "\n",
        "    def __call__(self, tensor):\n",
        "        return tensor + torch.randn(tensor.size()) * self.std + self.mean\n",
        "\n",
        "    def __repr__(self):\n",
        "        return self.__class__.__name__ + '(mean={0}, std={1})'.format(self.mean, self.std)"
      ],
      "metadata": {
        "id": "jzrj7ILQ8p-V"
      },
      "execution_count": 6,
      "outputs": []
    },
    {
      "cell_type": "code",
      "source": [
        "# Dataset with added Gaussian Noise\n",
        "transform_noise = transforms.Compose([\n",
        "    transforms.ToTensor(),\n",
        "    AddGaussianNoise(0., 0.25),\n",
        "    transforms.Normalize((0.1307,), (0.3081,))\n",
        "])\n",
        "\n",
        "dataset_train_noise = datasets.MNIST(\n",
        "    root=\"data\",\n",
        "    train=True,\n",
        "    download=True,\n",
        "    transform=transform_noise\n",
        ")\n",
        "data_train_noise = DataLoader(dataset_train_noise, batch_size=batch_size, shuffle=True, num_workers=int(cuda), pin_memory=cuda)"
      ],
      "metadata": {
        "id": "TPLX105X9UJS"
      },
      "execution_count": 7,
      "outputs": []
    },
    {
      "cell_type": "code",
      "source": [
        "# Show Sample Data from Noise Added Dataset\n",
        "figure = plt.figure(figsize=(8, 8))\n",
        "cols, rows = 3, 3\n",
        "for i in range(1, cols * rows + 1):\n",
        "    sample_idx = torch.randint(len(dataset_train_noise), size=(1,)).item()\n",
        "    img, label = dataset_train_noise[sample_idx]\n",
        "    figure.add_subplot(rows, cols, i)\n",
        "    plt.axis(\"off\")\n",
        "    plt.imshow(img.squeeze(), cmap=\"gray\")\n",
        "plt.show()"
      ],
      "metadata": {
        "colab": {
          "base_uri": "https://localhost:8080/",
          "height": 653
        },
        "id": "jS-8qVOU-W0D",
        "outputId": "81c6cf1a-fdb9-40cf-cddf-0910dbb695c3"
      },
      "execution_count": 8,
      "outputs": [
        {
          "output_type": "display_data",
          "data": {
            "text/plain": [
              "<Figure size 800x800 with 9 Axes>"
            ],
            "image/png": "[encoded data removed]"
          },
          "metadata": {}
        }
      ]
    },
    {
      "cell_type": "code",
      "source": [
        "# Dataset of Inverted images\n",
        "transform_negative = transforms.Compose([\n",
        "    transforms.ToTensor(),\n",
        "    transforms.Lambda(lambda x: transforms.functional.invert(x)),\n",
        "    transforms.Normalize((0.1307,), (0.3081,))\n",
        "])\n",
        "\n",
        "dataset_train_negative = datasets.MNIST(\n",
        "    root=\"data\",\n",
        "    train=True,\n",
        "    download=True,\n",
        "    transform=transform_negative\n",
        ")\n",
        "data_train_negative = DataLoader(dataset_train_negative, batch_size=batch_size, shuffle=True, num_workers=int(cuda), pin_memory=cuda)"
      ],
      "metadata": {
        "id": "VL1kySoA4ApB"
      },
      "execution_count": 9,
      "outputs": []
    },
    {
      "cell_type": "code",
      "source": [
        "# Show Sample Data From Inverted Dataset\n",
        "figure = plt.figure(figsize=(8, 8))\n",
        "cols, rows = 3, 3\n",
        "for i in range(1, cols * rows + 1):\n",
        "    sample_idx = torch.randint(len(dataset_train_negative), size=(1,)).item()\n",
        "    img, label = dataset_train_negative[sample_idx]\n",
        "    figure.add_subplot(rows, cols, i)\n",
        "    plt.axis(\"off\")\n",
        "    plt.imshow(img.squeeze(), cmap=\"gray\")\n",
        "plt.show()"
      ],
      "metadata": {
        "colab": {
          "base_uri": "https://localhost:8080/",
          "height": 653
        },
        "id": "tYUU_BOQ9lRU",
        "outputId": "ebb204a1-1241-4aeb-a871-9c623261aa12"
      },
      "execution_count": 10,
      "outputs": [
        {
          "output_type": "display_data",
          "data": {
            "text/plain": [
              "<Figure size 800x800 with 9 Axes>"
            ],
            "image/png": "[encoded data removed]"
          },
          "metadata": {}
        }
      ]
    },
    {
      "cell_type": "code",
      "source": [
        "# Combining Datasets\n",
        "\n",
        "indices_noise = torch.randperm(len(dataset_train))[:int(len(dataset_train)/2)]\n",
        "indices_negative = torch.randperm(len(dataset_train))[:int(len(dataset_train)/2)]\n",
        "dataset_train_noise = Subset(dataset_train_noise, indices_noise)\n",
        "dataset_train_negative = Subset(dataset_train_negative, indices_negative)\n",
        "dataset_train_transformed = ConcatDataset([dataset_train_noise, dataset_train_negative])\n",
        "data_train_transformed = DataLoader(dataset_train_transformed, batch_size=batch_size, shuffle=True, num_workers=int(cuda), pin_memory=cuda)"
      ],
      "metadata": {
        "id": "-CiYVnTKPLoC"
      },
      "execution_count": 11,
      "outputs": []
    },
    {
      "cell_type": "code",
      "source": [
        "# Show Sample Data From Transformed Dataset\n",
        "figure = plt.figure(figsize=(8, 8))\n",
        "cols, rows = 3, 3\n",
        "for i in range(1, cols * rows + 1):\n",
        "    sample_idx = torch.randint(len(dataset_train_transformed), size=(1,)).item()\n",
        "    img, label = dataset_train_transformed[sample_idx]\n",
        "    figure.add_subplot(rows, cols, i)\n",
        "    plt.axis(\"off\")\n",
        "    plt.imshow(img.squeeze(), cmap=\"gray\")\n",
        "plt.show()"
      ],
      "metadata": {
        "colab": {
          "base_uri": "https://localhost:8080/",
          "height": 653
        },
        "id": "uAK0WOQXTLRg",
        "outputId": "0b8a6eb9-5297-447b-c700-9242c567cc9f"
      },
      "execution_count": 12,
      "outputs": [
        {
          "output_type": "display_data",
          "data": {
            "text/plain": [
              "<Figure size 800x800 with 9 Axes>"
            ],
            "image/png": "[encoded data removed]"
          },
          "metadata": {}
        }
      ]
    },
    {
      "cell_type": "markdown",
      "source": [
        "**Model**"
      ],
      "metadata": {
        "id": "A-i5D6oFmp75"
      }
    },
    {
      "cell_type": "code",
      "execution_count": 13,
      "metadata": {
        "id": "xk9oaoUcc9SR"
      },
      "outputs": [],
      "source": [
        "import torch.nn as nn\n",
        "import torch"
      ]
    },
    {
      "cell_type": "code",
      "source": [
        "# Random seed\n",
        "torch.manual_seed(seed)\n",
        "torch.manual_seed(seed)\n",
        "if cuda:\n",
        "    torch.cuda.manual_seed_all(seed)\n",
        "\n",
        "# Name of The Experiment\n",
        "timestamp = str(int(time.time()))\n",
        "if name == '':\n",
        "    name = 'n_exp_{}_bs_{}_lri_{}_lre_{}_lrd_{}_ei_{}_e_{}_oi_{}_oe_{}_oe_{}_{}'.format(\n",
        "        num_experts, batch_size, learning_rate_initialize,\n",
        "        learning_rate_expert, learning_rate_discriminator, epochs_init,\n",
        "        epochs, optimizer_initialize, optimizer_experts, optimizer_discriminator,\n",
        "        timestamp)\n",
        "else:\n",
        "    name = '{}_{}'.format(name, timestamp)\n",
        "\n",
        "print('\\nExperiment: {}\\n'.format(name))\n",
        "\n",
        "# Logging. To run: tensorboard --logdir <args.outdir>/logs\n",
        "log_dir = os.path.join(outdir, 'logs')\n",
        "if not os.path.exists(log_dir):\n",
        "    os.mkdir(log_dir)\n",
        "log_dir_exp = os.path.join(log_dir, name)\n",
        "os.mkdir(log_dir_exp)\n",
        "writer = SummaryWriter(log_dir=log_dir_exp)\n",
        "\n",
        "# Directory for checkpoints\n",
        "checkpt_dir = os.path.join(outdir, 'checkpoints')\n",
        "if not os.path.exists(checkpt_dir):\n",
        "    os.mkdir(checkpt_dir)\n"
      ],
      "metadata": {
        "colab": {
          "base_uri": "https://localhost:8080/"
        },
        "id": "UUGYJ5jXgk-8",
        "outputId": "92d4f466-1e2b-432d-82d6-19b80e737fbc"
      },
      "execution_count": 14,
      "outputs": [
        {
          "output_type": "stream",
          "name": "stdout",
          "text": [
            "\n",
            "Experiment: n_exp_5_bs_32_lri_0.1_lre_0.001_lrd_0.001_ei_100_e_100_oi_adam_oe_adam_oe_adam_1688125582\n",
            "\n"
          ]
        }
      ]
    },
    {
      "cell_type": "code",
      "source": [
        "# class Expert(nn.Module):\n",
        "\n",
        "#     def __init__(self):\n",
        "#         super(Expert, self).__init__()\n",
        "\n",
        "#         # Architecture\n",
        "#         def block(in_feat, out_feat, normalize=True):\n",
        "#             layers = [nn.Linear(in_feat, out_feat)]\n",
        "#             if normalize:\n",
        "#                 layers.append(nn.BatchNorm1d(out_feat, 0.8))\n",
        "#             layers.append(nn.LeakyReLU(0.2, inplace=True))\n",
        "#             return layers\n",
        "\n",
        "#         self.model = nn.Sequential(\n",
        "#             *block(input_size, 128, normalize=False),\n",
        "#             *block(128, 256),\n",
        "#             *block(256, 512),\n",
        "#             *block(512, 1024),\n",
        "#             nn.Linear(1024, input_size),\n",
        "#             nn.Tanh()\n",
        "#             )\n",
        "\n",
        "#     def forward(self, input):\n",
        "#         output = self.model(input)\n",
        "#         return output"
      ],
      "metadata": {
        "id": "eZZNGeR6eJPD"
      },
      "execution_count": null,
      "outputs": []
    },
    {
      "cell_type": "code",
      "source": [
        "class Expert(nn.Module):\n",
        "    def __init__(self):\n",
        "        super(Expert, self).__init__()\n",
        "        self.conv1 = nn.Conv2d(1, 32, kernel_size=3, padding=1)\n",
        "        self.bn1 = nn.BatchNorm2d(32)\n",
        "        self.elu1 = nn.ELU()\n",
        "\n",
        "        self.conv2 = nn.Conv2d(32, 32, kernel_size=3, padding=1)\n",
        "        self.bn2 = nn.BatchNorm2d(32)\n",
        "        self.elu2 = nn.ELU()\n",
        "\n",
        "        self.conv3 = nn.Conv2d(32, 32, kernel_size=3, padding=1)\n",
        "        self.bn3 = nn.BatchNorm2d(32)\n",
        "        self.elu3 = nn.ELU()\n",
        "\n",
        "        self.conv4 = nn.Conv2d(32, 32, kernel_size=3, padding=1)\n",
        "        self.bn4 = nn.BatchNorm2d(32)\n",
        "        self.elu4 = nn.ELU()\n",
        "\n",
        "        self.conv5 = nn.Conv2d(32, 1, kernel_size=3, padding=1)\n",
        "        self.sigmoid = nn.Sigmoid()\n",
        "\n",
        "    def forward(self, x):\n",
        "        x = self.conv1(x)\n",
        "        x = self.bn1(x)\n",
        "        x = self.elu1(x)\n",
        "\n",
        "        x = self.conv2(x)\n",
        "        x = self.bn2(x)\n",
        "        x = self.elu2(x)\n",
        "\n",
        "        x = self.conv3(x)\n",
        "        x = self.bn3(x)\n",
        "        x = self.elu3(x)\n",
        "\n",
        "        x = self.conv4(x)\n",
        "        x = self.bn4(x)\n",
        "        x = self.elu4(x)\n",
        "\n",
        "        x = self.conv5(x)\n",
        "        x = self.sigmoid(x)\n",
        "\n",
        "        return x"
      ],
      "metadata": {
        "id": "qxoXOttbpGwr"
      },
      "execution_count": 15,
      "outputs": []
    },
    {
      "cell_type": "code",
      "source": [
        "# class Discriminator(nn.Module):\n",
        "\n",
        "#     def __init__(self):\n",
        "#         super(Discriminator, self).__init__()\n",
        "\n",
        "#         # Architecture\n",
        "#         self.model = nn.Sequential(\n",
        "#             nn.Linear(input_size, 512),\n",
        "#             nn.LeakyReLU(0.2, inplace=True),\n",
        "#             nn.Linear(512, 256),\n",
        "#             nn.LeakyReLU(0.2, inplace=True),\n",
        "#             nn.Linear(256, 1),\n",
        "#             nn.Sigmoid()\n",
        "#         )\n",
        "\n",
        "#     def forward(self, input):\n",
        "#         validity = self.model(input)\n",
        "#         return validity"
      ],
      "metadata": {
        "id": "gSjMcQ4cmVn4"
      },
      "execution_count": null,
      "outputs": []
    },
    {
      "cell_type": "code",
      "source": [
        "class Discriminator(nn.Module):\n",
        "    def __init__(self):\n",
        "        super(Discriminator, self).__init__()\n",
        "        self.conv1 = nn.Conv2d(1, 16, kernel_size=3, padding=1)\n",
        "        self.elu1 = nn.ELU()\n",
        "\n",
        "        self.conv2 = nn.Conv2d(16, 16, kernel_size=3, padding=1)\n",
        "        self.elu2 = nn.ELU()\n",
        "\n",
        "        self.conv3 = nn.Conv2d(16, 16, kernel_size=3, padding=1)\n",
        "        self.elu3 = nn.ELU()\n",
        "\n",
        "        self.pool1 = nn.AvgPool2d(kernel_size=2)\n",
        "\n",
        "        self.conv4 = nn.Conv2d(16, 32, kernel_size=3, padding=1)\n",
        "        self.elu4 = nn.ELU()\n",
        "\n",
        "        self.conv5 = nn.Conv2d(32, 32, kernel_size=3, padding=1)\n",
        "        self.elu5 = nn.ELU()\n",
        "\n",
        "        self.pool2 = nn.AvgPool2d(kernel_size=2)\n",
        "\n",
        "        self.conv6 = nn.Conv2d(32, 64, kernel_size=3, padding=1)\n",
        "        self.elu6 = nn.ELU()\n",
        "\n",
        "        self.conv7 = nn.Conv2d(64, 64, kernel_size=3, padding=1)\n",
        "        self.elu7 = nn.ELU()\n",
        "\n",
        "        self.pool3 = nn.AvgPool2d(kernel_size=2)\n",
        "\n",
        "        self.fc1 = nn.Linear(64 * 3 * 3, 1024)\n",
        "        self.elu8 = nn.ELU()\n",
        "\n",
        "        self.fc2 = nn.Linear(1024, 1)\n",
        "        self.sigmoid = nn.Sigmoid()\n",
        "\n",
        "    def forward(self, x):\n",
        "        x = self.conv1(x)\n",
        "        x = self.elu1(x)\n",
        "\n",
        "        x = self.conv2(x)\n",
        "        x = self.elu2(x)\n",
        "\n",
        "        x = self.conv3(x)\n",
        "        x = self.elu3(x)\n",
        "\n",
        "        x = self.pool1(x)\n",
        "\n",
        "        x = self.conv4(x)\n",
        "        x = self.elu4(x)\n",
        "\n",
        "        x = self.conv5(x)\n",
        "        x = self.elu5(x)\n",
        "\n",
        "        x = self.pool2(x)\n",
        "\n",
        "        x = self.conv6(x)\n",
        "        x = self.elu6(x)\n",
        "\n",
        "        x = self.conv7(x)\n",
        "        x = self.elu7(x)\n",
        "\n",
        "        x = self.pool3(x)\n",
        "\n",
        "        x = x.view(-1, 64 * 3 * 3)\n",
        "        # x = x.view(-1, x.size()[0])\n",
        "\n",
        "        x = self.fc1(x)\n",
        "        x = self.elu8(x)\n",
        "\n",
        "        x = self.fc2(x)\n",
        "        x = self.sigmoid(x)\n",
        "\n",
        "        return x"
      ],
      "metadata": {
        "id": "yWONSyR7p1Ss"
      },
      "execution_count": 16,
      "outputs": []
    },
    {
      "cell_type": "code",
      "source": [
        "def initialize_expert(epochs, expert, i, optimizer, loss, data_train, writer):\n",
        "    print(\"Initializing expert [{}] as identity on preturbed data\".format(i+1))\n",
        "    expert.train()\n",
        "    for epoch in range(epochs):\n",
        "        total_loss = 0\n",
        "        n_samples = 0\n",
        "        for batch in data_train:\n",
        "            x_transformed, y = batch\n",
        "            x_transformed = x_transformed.to(device)\n",
        "            batch_size = x_transformed.size(0)\n",
        "            n_samples += batch_size\n",
        "            # x_transformed = x_transformed.view(x_transformed.size(0), -1).to(device)\n",
        "            x_hat = expert(x_transformed)\n",
        "            loss_rec = loss(x_hat, x_transformed)\n",
        "            total_loss += loss_rec.item()*batch_size\n",
        "            optimizer.zero_grad()\n",
        "            loss_rec.backward()\n",
        "            optimizer.step()\n",
        "\n",
        "        # Loss\n",
        "        mean_loss = total_loss/n_samples\n",
        "        print(\"initialization epoch [{}] expert [{}] loss {:.4f}\".format(epoch+1, i+1, mean_loss))\n",
        "        writer.add_scalar('expert_{}_initialization_loss'.format(i+1), mean_loss, epoch+1)\n",
        "        if mean_loss < 0.002:\n",
        "            break\n",
        "\n",
        "    torch.save(expert.state_dict(), checkpt_dir + '/{}_E_{}_init.pth'.format(name, i + 1))"
      ],
      "metadata": {
        "id": "gda4ox0iAd_1"
      },
      "execution_count": 17,
      "outputs": []
    },
    {
      "cell_type": "code",
      "source": [
        "def train_system(epoch, experts, discriminator, optimizers_E, optimizer_D, criterion, data_canonical, data_transformed, writer):\n",
        "    discriminator.train()\n",
        "    for i, expert in enumerate(experts):\n",
        "        expert.train()\n",
        "\n",
        "    # Labels for canonical vs transformed samples\n",
        "    canonical_label = 1\n",
        "    transformed_label = 0\n",
        "    # Keep track of losses\n",
        "    total_loss_D_canon = 0\n",
        "    total_loss_D_transformed = 0\n",
        "    n_samples = 0\n",
        "    total_loss_expert = [0 for i in range(len(experts))]\n",
        "    total_samples_expert = [0 for i in range(len(experts))]\n",
        "    expert_scores_D = [0 for i in range(len(experts))]\n",
        "    expert_winning_samples_idx = [[] for i in range(len(experts))]\n",
        "    canon_iter = iter(data_canonical)\n",
        "    # Iterate through data\n",
        "    for idx, batch in enumerate(data_transformed):\n",
        "        x_transf, y_transf = batch\n",
        "        x_transf = x_transf.to(device)\n",
        "        x_canon, y_canon = next(canon_iter)\n",
        "        x_canon = x_canon.to(device)\n",
        "        # x_transf = torch.randn(x_canon.size()) # TODO temporary since do not have the preturbed data yet\n",
        "        batch_size = x_canon.size(0)\n",
        "        n_samples += batch_size\n",
        "        # x_canon = x_canon.view(batch_size, -1).to(device)\n",
        "        # x_transf = x_transf.view(batch_size, -1).to(device)\n",
        "\n",
        "        # Train Discriminator on canonical distribution\n",
        "        scores_canon = discriminator(x_canon)\n",
        "        labels_canon = torch.full((batch_size,), canonical_label, device=device).unsqueeze(dim=1)\n",
        "        loss_D_canon = criterion(scores_canon, labels_canon.float())\n",
        "        total_loss_D_canon += loss_D_canon.item() * batch_size\n",
        "        optimizer_D.zero_grad()\n",
        "        loss_D_canon.backward()\n",
        "\n",
        "        # Train Discriminator on experts output\n",
        "        labels_transf = torch.full((batch_size,), transformed_label, device=device).unsqueeze(dim=1)\n",
        "        # loss_D_transformed = 0\n",
        "        exp_outputs = []\n",
        "        expert_scores = []\n",
        "        for i, expert in enumerate(experts):\n",
        "            exp_output = expert(x_transf)\n",
        "            # exp_outputs.append(exp_output.view(batch_size, 1, input_size))\n",
        "            exp_outputs.append(exp_output)\n",
        "            exp_scores = discriminator(exp_output.detach())\n",
        "            expert_scores.append(exp_scores)\n",
        "            loss_D_transformed += criterion(exp_scores, labels_transf.float())\n",
        "        loss_D_transformed = loss_D_transformed / num_experts\n",
        "        total_loss_D_transformed += loss_D_transformed.item() * batch_size\n",
        "        loss_D_transformed.backward()\n",
        "        optimizer_D.step()\n",
        "\n",
        "        # Train experts\n",
        "        exp_outputs = torch.cat(exp_outputs, dim=1)\n",
        "        expert_scores = torch.cat(expert_scores, dim=1)\n",
        "        mask_winners = expert_scores.argmax(dim=1)\n",
        "\n",
        "        # Update each expert on samples it won\n",
        "        for i, expert in enumerate(experts):\n",
        "            winning_indexes = mask_winners.eq(i).nonzero().squeeze(dim=-1)\n",
        "            accrue = 0 if idx == 0 else 1\n",
        "            expert_winning_samples_idx[i] += (winning_indexes+accrue*n_samples).tolist()\n",
        "            n_expert_samples = winning_indexes.size(0)\n",
        "            if n_expert_samples > 0:\n",
        "                total_samples_expert[i] += n_expert_samples\n",
        "                exp_samples = exp_outputs[winning_indexes, i]\n",
        "                exp_samples = torch.unsqueeze(exp_samples, 1)\n",
        "                D_E_x_transf = discriminator(exp_samples)\n",
        "                exp_labels = torch.full((n_expert_samples,), canonical_label,\n",
        "                                    device=device).unsqueeze(dim=1)\n",
        "                # breakpoint()\n",
        "                loss_E = criterion(D_E_x_transf, exp_labels.float())\n",
        "                total_loss_expert[i] += loss_E.item() * n_expert_samples\n",
        "                optimizers_E[i].zero_grad()\n",
        "                loss_E.backward(retain_graph=True) # TODO figure out why retain graph is necessary\n",
        "                optimizers_E[i].step()\n",
        "                expert_scores_D[i] += D_E_x_transf.squeeze().sum().item()\n",
        "\n",
        "    # Logging\n",
        "    mean_loss_D_generated = total_loss_D_transformed / n_samples\n",
        "    mean_loss_D_canon = total_loss_D_canon / n_samples\n",
        "    print(\"epoch [{}] loss_D_transformed {:.4f}\".format(epoch + 1, mean_loss_D_generated))\n",
        "    print(\"epoch [{}] loss_D_canon {:.4f}\".format(epoch + 1, mean_loss_D_canon))\n",
        "    writer.add_scalar('loss_D_canonical', mean_loss_D_canon, epoch + 1)\n",
        "    writer.add_scalar('loss_D_transformed', mean_loss_D_generated, epoch + 1)\n",
        "    for i in range(len(experts)):\n",
        "        print(\"epoch [{}] expert [{}] n_samples {}\".format(epoch + 1, i + 1, total_samples_expert[i]))\n",
        "        writer.add_scalar('expert_{}_n_samples'.format(i + 1), total_samples_expert[i], epoch + 1)\n",
        "        writer.add_text('expert_{}_winning_samples'.format(i + 1),\n",
        "                           \":\".join([str(j) for j in expert_winning_samples_idx[i]]), epoch + 1)\n",
        "        if total_samples_expert[i]> 0:\n",
        "            mean_loss_expert = total_loss_expert[i] / total_samples_expert[i]\n",
        "            mean_expert_scores = expert_scores_D[i] / total_samples_expert[i]\n",
        "            print(\"epoch [{}] expert [{}] loss {:.4f}\".format(epoch + 1, i + 1, mean_loss_expert))\n",
        "            print(\"epoch [{}] expert [{}] scores {:.4f}\".format(epoch + 1, i + 1, mean_expert_scores))\n",
        "            writer.add_scalar('expert_{}_loss'.format(i + 1), mean_loss_expert, epoch + 1)\n",
        "            writer.add_scalar('expert_{}_scores'.format(i + 1), mean_expert_scores, epoch + 1)"
      ],
      "metadata": {
        "id": "W90mRU5nk4X2"
      },
      "execution_count": 35,
      "outputs": []
    },
    {
      "cell_type": "code",
      "source": [
        "def init_weights(model, path):\n",
        "    pre_trained_dict = torch.load(path, map_location=lambda storage, loc: storage)\n",
        "    for layer in pre_trained_dict.keys():\n",
        "        model.state_dict()[layer].copy_(pre_trained_dict[layer])\n",
        "    for param in model.parameters():\n",
        "        param.requires_grad = True"
      ],
      "metadata": {
        "id": "4jyCt9R_hnlh"
      },
      "execution_count": 19,
      "outputs": []
    },
    {
      "cell_type": "code",
      "source": [
        "# Model\n",
        "experts = [Expert().to(device) for i in range(num_experts)]\n",
        "discriminator = Discriminator().to(device)"
      ],
      "metadata": {
        "id": "Z2r3Zgel5g0L"
      },
      "execution_count": 20,
      "outputs": []
    },
    {
      "cell_type": "code",
      "source": [
        "# Losses\n",
        "loss_initial = torch.nn.MSELoss(reduction='mean')\n",
        "criterion = torch.nn.BCELoss(reduction='mean')"
      ],
      "metadata": {
        "id": "xqGpDxko7qRj"
      },
      "execution_count": 21,
      "outputs": []
    },
    {
      "cell_type": "code",
      "source": [
        "# Initialize Experts as approximately Identity on Transformed Data\n",
        "for i, expert in enumerate(experts):\n",
        "    if load_initialized_experts:\n",
        "        path = os.path.join(checkpt_dir,\n",
        "                            model_for_initialized_experts + '_E_{}_init.pth'.format(i+1))\n",
        "        init_weights(expert, path)\n",
        "    else:\n",
        "        if optimizer_initialize == 'adam':\n",
        "            optimizer_E = torch.optim.Adam(expert.parameters(), lr=learning_rate_initialize,\n",
        "                                                weight_decay=weight_decay)\n",
        "        elif optimizer_initialize == 'sgd':\n",
        "            optimizer_E = torch.optim.SGD(expert.parameters(), lr=learning_rate_initialize,\n",
        "                                              weight_decay=weight_decay)\n",
        "        else:\n",
        "            raise NotImplementedError\n",
        "        initialize_expert(epochs_init, expert, i, optimizer_E, loss_initial, data_train_transformed, writer)\n"
      ],
      "metadata": {
        "id": "3h1C9aIW9_-v",
        "colab": {
          "base_uri": "https://localhost:8080/"
        },
        "outputId": "3cb11d85-d868-4fbb-8fc4-e6f117c03784"
      },
      "execution_count": null,
      "outputs": [
        {
          "metadata": {
            "tags": null
          },
          "name": "stdout",
          "output_type": "stream",
          "text": [
            "Initializing expert [1] as identity on preturbed data\n",
            "initialization epoch [1] expert [1] loss 1.9262\n",
            "initialization epoch [2] expert [1] loss 1.8949\n",
            "initialization epoch [3] expert [1] loss 1.8938\n",
            "initialization epoch [4] expert [1] loss 1.8934\n",
            "initialization epoch [5] expert [1] loss 1.8933\n",
            "initialization epoch [6] expert [1] loss 1.8930\n",
            "initialization epoch [7] expert [1] loss 1.8932\n",
            "initialization epoch [8] expert [1] loss 1.8927\n",
            "initialization epoch [9] expert [1] loss 1.8927\n",
            "initialization epoch [10] expert [1] loss 1.8924\n",
            "initialization epoch [11] expert [1] loss 1.8928\n",
            "initialization epoch [12] expert [1] loss 1.8921\n",
            "initialization epoch [13] expert [1] loss 1.8924\n",
            "initialization epoch [14] expert [1] loss 1.8981\n",
            "initialization epoch [15] expert [1] loss 1.9060\n",
            "initialization epoch [16] expert [1] loss 1.9038\n",
            "initialization epoch [17] expert [1] loss 1.9034\n",
            "initialization epoch [18] expert [1] loss 1.9025\n",
            "initialization epoch [19] expert [1] loss 1.9021\n",
            "initialization epoch [20] expert [1] loss 1.9011\n",
            "initialization epoch [21] expert [1] loss 1.9009\n",
            "initialization epoch [22] expert [1] loss 1.9007\n",
            "initialization epoch [23] expert [1] loss 1.9010\n",
            "initialization epoch [24] expert [1] loss 1.9020\n",
            "initialization epoch [25] expert [1] loss 1.8987\n",
            "initialization epoch [26] expert [1] loss 1.8954\n",
            "initialization epoch [27] expert [1] loss 1.8936\n",
            "initialization epoch [28] expert [1] loss 1.8934\n",
            "initialization epoch [29] expert [1] loss 1.8928\n",
            "initialization epoch [30] expert [1] loss 1.8929\n",
            "initialization epoch [31] expert [1] loss 1.8932\n",
            "initialization epoch [32] expert [1] loss 1.8962\n",
            "initialization epoch [33] expert [1] loss 1.8985\n",
            "initialization epoch [34] expert [1] loss 1.8931\n",
            "initialization epoch [35] expert [1] loss 1.8934\n",
            "initialization epoch [36] expert [1] loss 1.8932\n",
            "initialization epoch [37] expert [1] loss 1.8928\n",
            "initialization epoch [38] expert [1] loss 1.8924\n",
            "initialization epoch [39] expert [1] loss 1.8926\n",
            "initialization epoch [40] expert [1] loss 1.8924\n",
            "initialization epoch [41] expert [1] loss 1.8922\n",
            "initialization epoch [42] expert [1] loss 1.8931\n",
            "initialization epoch [43] expert [1] loss 1.8920\n",
            "initialization epoch [44] expert [1] loss 1.8925\n",
            "initialization epoch [45] expert [1] loss 1.8923\n",
            "initialization epoch [46] expert [1] loss 1.8925\n",
            "initialization epoch [47] expert [1] loss 1.8925\n",
            "initialization epoch [48] expert [1] loss 1.8928\n",
            "initialization epoch [49] expert [1] loss 1.8930\n",
            "initialization epoch [50] expert [1] loss 1.8925\n",
            "initialization epoch [51] expert [1] loss 1.8926\n",
            "initialization epoch [52] expert [1] loss 1.8920\n",
            "initialization epoch [53] expert [1] loss 1.8925\n",
            "initialization epoch [54] expert [1] loss 1.9057\n",
            "initialization epoch [55] expert [1] loss 1.9032\n",
            "initialization epoch [56] expert [1] loss 1.9032\n",
            "initialization epoch [57] expert [1] loss 1.9032\n"
          ]
        }
      ]
    },
    {
      "cell_type": "code",
      "source": [
        "# Optimizers\n",
        "optimizers_E = []\n",
        "for i in range(num_experts):\n",
        "    if optimizer_experts == 'adam':\n",
        "        optimizer_E = torch.optim.Adam(experts[i].parameters(), lr=learning_rate_expert,\n",
        "                                        weight_decay=weight_decay)\n",
        "    elif optimizer_experts == 'sgd':\n",
        "        optimizer_E = torch.optim.SGD(experts[i].parameters(), lr=learning_rate_expert,\n",
        "                                      weight_decay=weight_decay)\n",
        "    else:\n",
        "        raise NotImplementedError\n",
        "    optimizers_E.append(optimizer_E)\n",
        "\n",
        "if optimizer_discriminator == 'adam':\n",
        "    optimizer_D = torch.optim.Adam(discriminator.parameters(), lr=learning_rate_discriminator,\n",
        "                                    weight_decay=weight_decay)\n",
        "elif optimizer_discriminator == 'sgd':\n",
        "    optimizer_D = torch.optim.SGD(discriminator.parameters(), lr=learning_rate_discriminator,\n",
        "                                    weight_decay=weight_decay)"
      ],
      "metadata": {
        "id": "ui8oNaL5kNKu"
      },
      "execution_count": 23,
      "outputs": []
    },
    {
      "cell_type": "code",
      "source": [
        "print(discriminator)"
      ],
      "metadata": {
        "colab": {
          "base_uri": "https://localhost:8080/"
        },
        "id": "xIWGLuxF45Z8",
        "outputId": "5b781262-2c19-4750-f916-188be2a6ce23"
      },
      "execution_count": null,
      "outputs": [
        {
          "output_type": "stream",
          "name": "stdout",
          "text": [
            "Discriminator(\n",
            "  (conv1): Conv2d(1, 16, kernel_size=(3, 3), stride=(1, 1), padding=(1, 1))\n",
            "  (elu1): ELU(alpha=1.0)\n",
            "  (conv2): Conv2d(16, 16, kernel_size=(3, 3), stride=(1, 1), padding=(1, 1))\n",
            "  (elu2): ELU(alpha=1.0)\n",
            "  (conv3): Conv2d(16, 16, kernel_size=(3, 3), stride=(1, 1), padding=(1, 1))\n",
            "  (elu3): ELU(alpha=1.0)\n",
            "  (pool1): AvgPool2d(kernel_size=2, stride=2, padding=0)\n",
            "  (conv4): Conv2d(16, 32, kernel_size=(3, 3), stride=(1, 1), padding=(1, 1))\n",
            "  (elu4): ELU(alpha=1.0)\n",
            "  (conv5): Conv2d(32, 32, kernel_size=(3, 3), stride=(1, 1), padding=(1, 1))\n",
            "  (elu5): ELU(alpha=1.0)\n",
            "  (pool2): AvgPool2d(kernel_size=2, stride=2, padding=0)\n",
            "  (conv6): Conv2d(32, 64, kernel_size=(3, 3), stride=(1, 1), padding=(1, 1))\n",
            "  (elu6): ELU(alpha=1.0)\n",
            "  (conv7): Conv2d(64, 64, kernel_size=(3, 3), stride=(1, 1), padding=(1, 1))\n",
            "  (elu7): ELU(alpha=1.0)\n",
            "  (pool3): AvgPool2d(kernel_size=2, stride=2, padding=0)\n",
            "  (fc1): Linear(in_features=1024, out_features=1024, bias=True)\n",
            "  (elu8): ELU(alpha=1.0)\n",
            "  (fc2): Linear(in_features=1024, out_features=1, bias=True)\n",
            "  (sigmoid): Sigmoid()\n",
            ")\n"
          ]
        }
      ]
    },
    {
      "cell_type": "code",
      "source": [
        "# Training\n",
        "torch.autograd.set_detect_anomaly(True)\n",
        "for epoch in range(epochs):\n",
        "    train_system(epoch, experts, discriminator, optimizers_E, optimizer_D, criterion, data_train, data_train_transformed, writer)\n",
        "\n",
        "    if epoch % log_interval == 0 or epoch == epochs-1:\n",
        "        torch.save(discriminator.state_dict(), checkpt_dir + '/{}_D.pth'.format(name))\n",
        "        for i in range(num_experts):\n",
        "            torch.save(experts[i].state_dict(), checkpt_dir + '/{}_E_{}.pth'.format(name, i+1))"
      ],
      "metadata": {
        "id": "72r4wwfXkiAE",
        "colab": {
          "base_uri": "https://localhost:8080/",
          "height": 383
        },
        "outputId": "527f58c5-9231-4388-bd6f-d6a0478c8805"
      },
      "execution_count": 36,
      "outputs": [
        {
          "output_type": "error",
          "ename": "UnboundLocalError",
          "evalue": "ignored",
          "traceback": [
            "\u001b[0;31m---------------------------------------------------------------------------\u001b[0m",
            "\u001b[0;31mUnboundLocalError\u001b[0m                         Traceback (most recent call last)",
            "\u001b[0;32m<ipython-input-36-ff5acf264fec>\u001b[0m in \u001b[0;36m<cell line: 3>\u001b[0;34m()\u001b[0m\n\u001b[1;32m      2\u001b[0m \u001b[0mtorch\u001b[0m\u001b[0;34m.\u001b[0m\u001b[0mautograd\u001b[0m\u001b[0;34m.\u001b[0m\u001b[0mset_detect_anomaly\u001b[0m\u001b[0;34m(\u001b[0m\u001b[0;32mTrue\u001b[0m\u001b[0;34m)\u001b[0m\u001b[0;34m\u001b[0m\u001b[0;34m\u001b[0m\u001b[0m\n\u001b[1;32m      3\u001b[0m \u001b[0;32mfor\u001b[0m \u001b[0mepoch\u001b[0m \u001b[0;32min\u001b[0m \u001b[0mrange\u001b[0m\u001b[0;34m(\u001b[0m\u001b[0mepochs\u001b[0m\u001b[0;34m)\u001b[0m\u001b[0;34m:\u001b[0m\u001b[0;34m\u001b[0m\u001b[0;34m\u001b[0m\u001b[0m\n\u001b[0;32m----> 4\u001b[0;31m     \u001b[0mtrain_system\u001b[0m\u001b[0;34m(\u001b[0m\u001b[0mepoch\u001b[0m\u001b[0;34m,\u001b[0m \u001b[0mexperts\u001b[0m\u001b[0;34m,\u001b[0m \u001b[0mdiscriminator\u001b[0m\u001b[0;34m,\u001b[0m \u001b[0moptimizers_E\u001b[0m\u001b[0;34m,\u001b[0m \u001b[0moptimizer_D\u001b[0m\u001b[0;34m,\u001b[0m \u001b[0mcriterion\u001b[0m\u001b[0;34m,\u001b[0m \u001b[0mdata_train\u001b[0m\u001b[0;34m,\u001b[0m \u001b[0mdata_train_transformed\u001b[0m\u001b[0;34m,\u001b[0m \u001b[0mwriter\u001b[0m\u001b[0;34m)\u001b[0m\u001b[0;34m\u001b[0m\u001b[0;34m\u001b[0m\u001b[0m\n\u001b[0m\u001b[1;32m      5\u001b[0m \u001b[0;34m\u001b[0m\u001b[0m\n\u001b[1;32m      6\u001b[0m     \u001b[0;32mif\u001b[0m \u001b[0mepoch\u001b[0m \u001b[0;34m%\u001b[0m \u001b[0mlog_interval\u001b[0m \u001b[0;34m==\u001b[0m \u001b[0;36m0\u001b[0m \u001b[0;32mor\u001b[0m \u001b[0mepoch\u001b[0m \u001b[0;34m==\u001b[0m \u001b[0mepochs\u001b[0m\u001b[0;34m-\u001b[0m\u001b[0;36m1\u001b[0m\u001b[0;34m:\u001b[0m\u001b[0;34m\u001b[0m\u001b[0;34m\u001b[0m\u001b[0m\n",
            "\u001b[0;32m<ipython-input-35-7e640c0d0ebd>\u001b[0m in \u001b[0;36mtrain_system\u001b[0;34m(epoch, experts, discriminator, optimizers_E, optimizer_D, criterion, data_canonical, data_transformed, writer)\u001b[0m\n\u001b[1;32m     47\u001b[0m             \u001b[0mexp_scores\u001b[0m \u001b[0;34m=\u001b[0m \u001b[0mdiscriminator\u001b[0m\u001b[0;34m(\u001b[0m\u001b[0mexp_output\u001b[0m\u001b[0;34m.\u001b[0m\u001b[0mdetach\u001b[0m\u001b[0;34m(\u001b[0m\u001b[0;34m)\u001b[0m\u001b[0;34m)\u001b[0m\u001b[0;34m\u001b[0m\u001b[0;34m\u001b[0m\u001b[0m\n\u001b[1;32m     48\u001b[0m             \u001b[0mexpert_scores\u001b[0m\u001b[0;34m.\u001b[0m\u001b[0mappend\u001b[0m\u001b[0;34m(\u001b[0m\u001b[0mexp_scores\u001b[0m\u001b[0;34m)\u001b[0m\u001b[0;34m\u001b[0m\u001b[0;34m\u001b[0m\u001b[0m\n\u001b[0;32m---> 49\u001b[0;31m             \u001b[0mloss_D_transformed\u001b[0m \u001b[0;34m+=\u001b[0m \u001b[0mcriterion\u001b[0m\u001b[0;34m(\u001b[0m\u001b[0mexp_scores\u001b[0m\u001b[0;34m,\u001b[0m \u001b[0mlabels_transf\u001b[0m\u001b[0;34m.\u001b[0m\u001b[0mfloat\u001b[0m\u001b[0;34m(\u001b[0m\u001b[0;34m)\u001b[0m\u001b[0;34m)\u001b[0m\u001b[0;34m\u001b[0m\u001b[0;34m\u001b[0m\u001b[0m\n\u001b[0m\u001b[1;32m     50\u001b[0m         \u001b[0mloss_D_transformed\u001b[0m \u001b[0;34m=\u001b[0m \u001b[0mloss_D_transformed\u001b[0m \u001b[0;34m/\u001b[0m \u001b[0mnum_experts\u001b[0m\u001b[0;34m\u001b[0m\u001b[0;34m\u001b[0m\u001b[0m\n\u001b[1;32m     51\u001b[0m         \u001b[0mtotal_loss_D_transformed\u001b[0m \u001b[0;34m+=\u001b[0m \u001b[0mloss_D_transformed\u001b[0m\u001b[0;34m.\u001b[0m\u001b[0mitem\u001b[0m\u001b[0;34m(\u001b[0m\u001b[0;34m)\u001b[0m \u001b[0;34m*\u001b[0m \u001b[0mbatch_size\u001b[0m\u001b[0;34m\u001b[0m\u001b[0;34m\u001b[0m\u001b[0m\n",
            "\u001b[0;31mUnboundLocalError\u001b[0m: local variable 'loss_D_transformed' referenced before assignment"
          ]
        }
      ]
    },
    {
      "cell_type": "code",
      "source": [
        "# pool of square window of size=3, stride=2\n",
        "# m = nn.AvgPool2d(3, stride=2)\n",
        "# pool of non-square window\n",
        "m = nn.AvgPool2d(kernel_size=2, stride=2, padding=0)\n",
        "input = torch.randn(32, 1, 64, 64)\n",
        "output = m(input)"
      ],
      "metadata": {
        "id": "BRa7y8im6nPY"
      },
      "execution_count": null,
      "outputs": []
    },
    {
      "cell_type": "code",
      "source": [
        "# output.shape\n",
        "output.view(output.size()[0], -1).shape"
      ],
      "metadata": {
        "colab": {
          "base_uri": "https://localhost:8080/"
        },
        "id": "SbcM4XRP80OE",
        "outputId": "ee464796-86d4-48d4-f1df-1199787c4df6"
      },
      "execution_count": null,
      "outputs": [
        {
          "output_type": "execute_result",
          "data": {
            "text/plain": [
              "torch.Size([32, 1024])"
            ]
          },
          "metadata": {},
          "execution_count": 74
        }
      ]
    },
    {
      "cell_type": "code",
      "source": [
        "exp = Discriminator()\n",
        "aa_x, aa_y = next(iter(data_train))\n",
        "bb = exp(aa_x)"
      ],
      "metadata": {
        "colab": {
          "base_uri": "https://localhost:8080/",
          "height": 346
        },
        "id": "a50xRr_d-M8U",
        "outputId": "89575065-afa6-46d5-e5dc-493aa91b6246"
      },
      "execution_count": null,
      "outputs": [
        {
          "output_type": "error",
          "ename": "RuntimeError",
          "evalue": "ignored",
          "traceback": [
            "\u001b[0;31m---------------------------------------------------------------------------\u001b[0m",
            "\u001b[0;31mRuntimeError\u001b[0m                              Traceback (most recent call last)",
            "\u001b[0;32m<ipython-input-85-b58ff392a7eb>\u001b[0m in \u001b[0;36m<cell line: 3>\u001b[0;34m()\u001b[0m\n\u001b[1;32m      1\u001b[0m \u001b[0mexp\u001b[0m \u001b[0;34m=\u001b[0m \u001b[0mDiscriminator\u001b[0m\u001b[0;34m(\u001b[0m\u001b[0;34m)\u001b[0m\u001b[0;34m\u001b[0m\u001b[0;34m\u001b[0m\u001b[0m\n\u001b[1;32m      2\u001b[0m \u001b[0maa_x\u001b[0m\u001b[0;34m,\u001b[0m \u001b[0maa_y\u001b[0m \u001b[0;34m=\u001b[0m \u001b[0mnext\u001b[0m\u001b[0;34m(\u001b[0m\u001b[0miter\u001b[0m\u001b[0;34m(\u001b[0m\u001b[0mdata_train\u001b[0m\u001b[0;34m)\u001b[0m\u001b[0;34m)\u001b[0m\u001b[0;34m\u001b[0m\u001b[0;34m\u001b[0m\u001b[0m\n\u001b[0;32m----> 3\u001b[0;31m \u001b[0mbb\u001b[0m \u001b[0;34m=\u001b[0m \u001b[0mexp\u001b[0m\u001b[0;34m(\u001b[0m\u001b[0maa_x\u001b[0m\u001b[0;34m)\u001b[0m\u001b[0;34m\u001b[0m\u001b[0;34m\u001b[0m\u001b[0m\n\u001b[0m",
            "\u001b[0;32m/usr/local/lib/python3.10/dist-packages/torch/nn/modules/module.py\u001b[0m in \u001b[0;36m_call_impl\u001b[0;34m(self, *args, **kwargs)\u001b[0m\n\u001b[1;32m   1499\u001b[0m                 \u001b[0;32mor\u001b[0m \u001b[0m_global_backward_pre_hooks\u001b[0m \u001b[0;32mor\u001b[0m \u001b[0m_global_backward_hooks\u001b[0m\u001b[0;34m\u001b[0m\u001b[0;34m\u001b[0m\u001b[0m\n\u001b[1;32m   1500\u001b[0m                 or _global_forward_hooks or _global_forward_pre_hooks):\n\u001b[0;32m-> 1501\u001b[0;31m             \u001b[0;32mreturn\u001b[0m \u001b[0mforward_call\u001b[0m\u001b[0;34m(\u001b[0m\u001b[0;34m*\u001b[0m\u001b[0margs\u001b[0m\u001b[0;34m,\u001b[0m \u001b[0;34m**\u001b[0m\u001b[0mkwargs\u001b[0m\u001b[0;34m)\u001b[0m\u001b[0;34m\u001b[0m\u001b[0;34m\u001b[0m\u001b[0m\n\u001b[0m\u001b[1;32m   1502\u001b[0m         \u001b[0;31m# Do not call functions when jit is used\u001b[0m\u001b[0;34m\u001b[0m\u001b[0;34m\u001b[0m\u001b[0m\n\u001b[1;32m   1503\u001b[0m         \u001b[0mfull_backward_hooks\u001b[0m\u001b[0;34m,\u001b[0m \u001b[0mnon_full_backward_hooks\u001b[0m \u001b[0;34m=\u001b[0m \u001b[0;34m[\u001b[0m\u001b[0;34m]\u001b[0m\u001b[0;34m,\u001b[0m \u001b[0;34m[\u001b[0m\u001b[0;34m]\u001b[0m\u001b[0;34m\u001b[0m\u001b[0;34m\u001b[0m\u001b[0m\n",
            "\u001b[0;32m<ipython-input-84-be1b5abcebe4>\u001b[0m in \u001b[0;36mforward\u001b[0;34m(self, x)\u001b[0m\n\u001b[1;32m     66\u001b[0m         \u001b[0mx\u001b[0m \u001b[0;34m=\u001b[0m \u001b[0mx\u001b[0m\u001b[0;34m.\u001b[0m\u001b[0mview\u001b[0m\u001b[0;34m(\u001b[0m\u001b[0;34m-\u001b[0m\u001b[0;36m1\u001b[0m\u001b[0;34m,\u001b[0m \u001b[0mx\u001b[0m\u001b[0;34m.\u001b[0m\u001b[0msize\u001b[0m\u001b[0;34m(\u001b[0m\u001b[0;34m)\u001b[0m\u001b[0;34m[\u001b[0m\u001b[0;36m0\u001b[0m\u001b[0;34m]\u001b[0m\u001b[0;34m)\u001b[0m\u001b[0;34m\u001b[0m\u001b[0;34m\u001b[0m\u001b[0m\n\u001b[1;32m     67\u001b[0m \u001b[0;34m\u001b[0m\u001b[0m\n\u001b[0;32m---> 68\u001b[0;31m         \u001b[0mx\u001b[0m \u001b[0;34m=\u001b[0m \u001b[0mself\u001b[0m\u001b[0;34m.\u001b[0m\u001b[0mfc1\u001b[0m\u001b[0;34m(\u001b[0m\u001b[0mx\u001b[0m\u001b[0;34m)\u001b[0m\u001b[0;34m\u001b[0m\u001b[0;34m\u001b[0m\u001b[0m\n\u001b[0m\u001b[1;32m     69\u001b[0m         \u001b[0mx\u001b[0m \u001b[0;34m=\u001b[0m \u001b[0mself\u001b[0m\u001b[0;34m.\u001b[0m\u001b[0melu8\u001b[0m\u001b[0;34m(\u001b[0m\u001b[0mx\u001b[0m\u001b[0;34m)\u001b[0m\u001b[0;34m\u001b[0m\u001b[0;34m\u001b[0m\u001b[0m\n\u001b[1;32m     70\u001b[0m \u001b[0;34m\u001b[0m\u001b[0m\n",
            "\u001b[0;32m/usr/local/lib/python3.10/dist-packages/torch/nn/modules/module.py\u001b[0m in \u001b[0;36m_call_impl\u001b[0;34m(self, *args, **kwargs)\u001b[0m\n\u001b[1;32m   1499\u001b[0m                 \u001b[0;32mor\u001b[0m \u001b[0m_global_backward_pre_hooks\u001b[0m \u001b[0;32mor\u001b[0m \u001b[0m_global_backward_hooks\u001b[0m\u001b[0;34m\u001b[0m\u001b[0;34m\u001b[0m\u001b[0m\n\u001b[1;32m   1500\u001b[0m                 or _global_forward_hooks or _global_forward_pre_hooks):\n\u001b[0;32m-> 1501\u001b[0;31m             \u001b[0;32mreturn\u001b[0m \u001b[0mforward_call\u001b[0m\u001b[0;34m(\u001b[0m\u001b[0;34m*\u001b[0m\u001b[0margs\u001b[0m\u001b[0;34m,\u001b[0m \u001b[0;34m**\u001b[0m\u001b[0mkwargs\u001b[0m\u001b[0;34m)\u001b[0m\u001b[0;34m\u001b[0m\u001b[0;34m\u001b[0m\u001b[0m\n\u001b[0m\u001b[1;32m   1502\u001b[0m         \u001b[0;31m# Do not call functions when jit is used\u001b[0m\u001b[0;34m\u001b[0m\u001b[0;34m\u001b[0m\u001b[0m\n\u001b[1;32m   1503\u001b[0m         \u001b[0mfull_backward_hooks\u001b[0m\u001b[0;34m,\u001b[0m \u001b[0mnon_full_backward_hooks\u001b[0m \u001b[0;34m=\u001b[0m \u001b[0;34m[\u001b[0m\u001b[0;34m]\u001b[0m\u001b[0;34m,\u001b[0m \u001b[0;34m[\u001b[0m\u001b[0;34m]\u001b[0m\u001b[0;34m\u001b[0m\u001b[0;34m\u001b[0m\u001b[0m\n",
            "\u001b[0;32m/usr/local/lib/python3.10/dist-packages/torch/nn/modules/linear.py\u001b[0m in \u001b[0;36mforward\u001b[0;34m(self, input)\u001b[0m\n\u001b[1;32m    112\u001b[0m \u001b[0;34m\u001b[0m\u001b[0m\n\u001b[1;32m    113\u001b[0m     \u001b[0;32mdef\u001b[0m \u001b[0mforward\u001b[0m\u001b[0;34m(\u001b[0m\u001b[0mself\u001b[0m\u001b[0;34m,\u001b[0m \u001b[0minput\u001b[0m\u001b[0;34m:\u001b[0m \u001b[0mTensor\u001b[0m\u001b[0;34m)\u001b[0m \u001b[0;34m->\u001b[0m \u001b[0mTensor\u001b[0m\u001b[0;34m:\u001b[0m\u001b[0;34m\u001b[0m\u001b[0;34m\u001b[0m\u001b[0m\n\u001b[0;32m--> 114\u001b[0;31m         \u001b[0;32mreturn\u001b[0m \u001b[0mF\u001b[0m\u001b[0;34m.\u001b[0m\u001b[0mlinear\u001b[0m\u001b[0;34m(\u001b[0m\u001b[0minput\u001b[0m\u001b[0;34m,\u001b[0m \u001b[0mself\u001b[0m\u001b[0;34m.\u001b[0m\u001b[0mweight\u001b[0m\u001b[0;34m,\u001b[0m \u001b[0mself\u001b[0m\u001b[0;34m.\u001b[0m\u001b[0mbias\u001b[0m\u001b[0;34m)\u001b[0m\u001b[0;34m\u001b[0m\u001b[0;34m\u001b[0m\u001b[0m\n\u001b[0m\u001b[1;32m    115\u001b[0m \u001b[0;34m\u001b[0m\u001b[0m\n\u001b[1;32m    116\u001b[0m     \u001b[0;32mdef\u001b[0m \u001b[0mextra_repr\u001b[0m\u001b[0;34m(\u001b[0m\u001b[0mself\u001b[0m\u001b[0;34m)\u001b[0m \u001b[0;34m->\u001b[0m \u001b[0mstr\u001b[0m\u001b[0;34m:\u001b[0m\u001b[0;34m\u001b[0m\u001b[0;34m\u001b[0m\u001b[0m\n",
            "\u001b[0;31mRuntimeError\u001b[0m: mat1 and mat2 shapes cannot be multiplied (576x32 and 1024x1024)"
          ]
        }
      ]
    },
    {
      "cell_type": "code",
      "source": [
        "conv1 = nn.Conv2d(1, 16, kernel_size=3, padding=1)\n",
        "elu1 = nn.ELU()\n",
        "\n",
        "conv2 = nn.Conv2d(16, 16, kernel_size=3, padding=1)\n",
        "elu2 = nn.ELU()\n",
        "\n",
        "conv3 = nn.Conv2d(16, 16, kernel_size=3, padding=1)\n",
        "elu3 = nn.ELU()\n",
        "\n",
        "pool1 = nn.AvgPool2d(kernel_size=2)\n",
        "\n",
        "conv4 = nn.Conv2d(16, 32, kernel_size=3, padding=1)\n",
        "elu4 = nn.ELU()\n",
        "\n",
        "conv5 = nn.Conv2d(32, 32, kernel_size=3, padding=1)\n",
        "elu5 = nn.ELU()\n",
        "\n",
        "pool2 = nn.AvgPool2d(kernel_size=2)\n",
        "\n",
        "conv6 = nn.Conv2d(32, 64, kernel_size=3, padding=1)\n",
        "elu6 = nn.ELU()\n",
        "\n",
        "conv7 = nn.Conv2d(64, 64, kernel_size=3, padding=1)\n",
        "elu7 = nn.ELU()\n",
        "\n",
        "pool3 = nn.AvgPool2d(kernel_size=2)\n",
        "\n",
        "fc1 = nn.Linear(64 * 3 * 3, 1024)\n",
        "elu8 = nn.ELU()\n",
        "\n",
        "fc2 = nn.Linear(1024, 1)\n",
        "sigmoid = nn.Sigmoid()\n",
        "\n",
        "x, y = next(iter(data_train))\n",
        "print(x.shape)\n",
        "x = conv1(x)\n",
        "print(x.shape)\n",
        "x = elu1(x)\n",
        "print(x.shape)\n",
        "x = conv2(x)\n",
        "print(x.shape)\n",
        "x = elu2(x)\n",
        "print(x.shape)\n",
        "x = conv3(x)\n",
        "print(x.shape)\n",
        "x = elu3(x)\n",
        "print(x.shape)\n",
        "x = pool1(x)\n",
        "print('pooling')\n",
        "print(x.shape)\n",
        "x = conv4(x)\n",
        "print(x.shape)\n",
        "x = elu4(x)\n",
        "print(x.shape)\n",
        "x = conv5(x)\n",
        "print(x.shape)\n",
        "x = elu5(x)\n",
        "print(x.shape)\n",
        "x = pool2(x)\n",
        "print('pooling')\n",
        "print(x.shape)\n",
        "x = conv6(x)\n",
        "print(x.shape)\n",
        "x = elu6(x)\n",
        "print(x.shape)\n",
        "x = conv7(x)\n",
        "print(x.shape)\n",
        "x = elu7(x)\n",
        "print(x.shape)\n",
        "\n",
        "x = pool3(x)\n",
        "print('pooling')\n",
        "print(x.shape)\n",
        "x = x.view(-1, 64 * 3 * 3)\n",
        "# x = x.view(-1, x.size()[0])\n",
        "print(x.shape)\n",
        "x = fc1(x)\n",
        "x = elu8(x)\n",
        "print(x.shape)\n",
        "x = fc2(x)\n",
        "print(x.shape)\n",
        "x = sigmoid(x)"
      ],
      "metadata": {
        "colab": {
          "base_uri": "https://localhost:8080/"
        },
        "id": "5I-wEzlDFvaN",
        "outputId": "2b437308-3337-4872-dabf-9704c68a48a1"
      },
      "execution_count": null,
      "outputs": [
        {
          "output_type": "stream",
          "name": "stdout",
          "text": [
            "torch.Size([32, 1, 28, 28])\n",
            "torch.Size([32, 16, 28, 28])\n",
            "torch.Size([32, 16, 28, 28])\n",
            "torch.Size([32, 16, 28, 28])\n",
            "torch.Size([32, 16, 28, 28])\n",
            "torch.Size([32, 16, 28, 28])\n",
            "torch.Size([32, 16, 28, 28])\n",
            "pooling\n",
            "torch.Size([32, 16, 14, 14])\n",
            "torch.Size([32, 32, 14, 14])\n",
            "torch.Size([32, 32, 14, 14])\n",
            "torch.Size([32, 32, 14, 14])\n",
            "torch.Size([32, 32, 14, 14])\n",
            "pooling\n",
            "torch.Size([32, 32, 7, 7])\n",
            "torch.Size([32, 64, 7, 7])\n",
            "torch.Size([32, 64, 7, 7])\n",
            "torch.Size([32, 64, 7, 7])\n",
            "torch.Size([32, 64, 7, 7])\n",
            "pooling\n",
            "torch.Size([32, 64, 3, 3])\n",
            "torch.Size([32, 576])\n",
            "torch.Size([32, 1024])\n",
            "torch.Size([32, 1])\n"
          ]
        }
      ]
    },
    {
      "cell_type": "code",
      "source": [
        "labels = torch.full((batch_size,), 1, device=device).unsqueeze(dim=1)\n",
        "labels.float()"
      ],
      "metadata": {
        "id": "L4yA9w5SIDRd"
      },
      "execution_count": null,
      "outputs": []
    },
    {
      "cell_type": "code",
      "source": [
        "# [32, 5, 28, 28]\n",
        "# exp_outputs[winning_indexes, i]\n",
        "a = torch.randn(3 , 5, 28, 28)\n",
        "index = [0,2]\n",
        "a.shape\n",
        "b = a[index,1]\n",
        "b.shape\n",
        "b = torch.unsqueeze(b, 1)\n",
        "b.shape\n"
      ],
      "metadata": {
        "colab": {
          "base_uri": "https://localhost:8080/"
        },
        "id": "YrNd639IabOg",
        "outputId": "d50702e4-6f79-4ace-e881-d7d80284ca17"
      },
      "execution_count": 44,
      "outputs": [
        {
          "output_type": "execute_result",
          "data": {
            "text/plain": [
              "torch.Size([2, 1, 28, 28])"
            ]
          },
          "metadata": {},
          "execution_count": 44
        }
      ]
    }
  ],
  "metadata": {
    "colab": {
      "provenance": [],
      "gpuType": "T4",
      "authorship_tag": "ABX9TyNo81ie6Gb5/KsYwD+4mK0L",
      "include_colab_link": true
    },
    "kernelspec": {
      "display_name": "Python 3",
      "name": "python3"
    },
    "language_info": {
      "name": "python"
    },
    "accelerator": "GPU"
  },
  "nbformat": 4,
  "nbformat_minor": 0
}