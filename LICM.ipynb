{
  "cells": [
    {
      "cell_type": "markdown",
      "metadata": {
        "id": "view-in-github",
        "colab_type": "text"
      },
      "source": [
        "<a href=\"https://colab.research.google.com/github/miladbahrami-fs/Independent_Causal_Mechanisms/blob/main/LICM.ipynb\" target=\"_parent\"><img src=\"https://colab.research.google.com/assets/colab-badge.svg\" alt=\"Open In Colab\"/></a>"
      ]
    },
    {
      "cell_type": "code",
      "source": [
        "!pip install tensorboardX"
      ],
      "metadata": {
        "colab": {
          "base_uri": "https://localhost:8080/"
        },
        "id": "p_1MVp5RbwcT",
        "outputId": "c030a1d7-7c28-4c74-9249-df8ae8e87cc3"
      },
      "execution_count": 1,
      "outputs": [
        {
          "output_type": "stream",
          "name": "stdout",
          "text": [
            "Requirement already satisfied: tensorboardX in /usr/local/lib/python3.10/dist-packages (2.6.1)\n",
            "Requirement already satisfied: numpy in /usr/local/lib/python3.10/dist-packages (from tensorboardX) (1.22.4)\n",
            "Requirement already satisfied: packaging in /usr/local/lib/python3.10/dist-packages (from tensorboardX) (23.1)\n",
            "Requirement already satisfied: protobuf>=4.22.3 in /usr/local/lib/python3.10/dist-packages (from tensorboardX) (4.23.3)\n"
          ]
        }
      ]
    },
    {
      "cell_type": "code",
      "source": [
        "# Importing Libraries\n",
        "from torchvision import datasets\n",
        "from torchvision import transforms\n",
        "from torch.utils.data import DataLoader, Subset, ConcatDataset\n",
        "import torch\n",
        "import time\n",
        "import os\n",
        "from tensorboardX import SummaryWriter\n",
        "import matplotlib.pyplot as plt"
      ],
      "metadata": {
        "id": "NwwFiDVYtiol"
      },
      "execution_count": 2,
      "outputs": []
    },
    {
      "cell_type": "code",
      "source": [
        "# Constants\n",
        "outdir = '.' #path to the output directory\n",
        "optimizer_experts = 'adam' # optimization algorithm (options: sgd | adam)\n",
        "optimizer_discriminator ='adam' # optimization algorithm (options: sgd | adam)\n",
        "optimizer_initialize ='adam' # optimization algorithm (options: sgd | adam)\n",
        "batch_size = 128 # input batch size for training\n",
        "input_size = 784 # input size of data\n",
        "epochs = 100 # number of epochs to train\n",
        "epochs_init = 100 # number of epochs to initially train experts\n",
        "no_cuda = False # enables CUDA training\n",
        "seed = 11 # random seed\n",
        "log_interval = 10 # how many batches to wait before logging training status\n",
        "learning_rate_initialize = 1e-1 # size of expert learning rate\n",
        "learning_rate_expert = 1e-3 #size of expert learning rate\n",
        "learning_rate_discriminator =1e-3 # size of discriminator learning rate\n",
        "name = '' #name of experiment\n",
        "weight_decay = 0 # weight decay for optimizer\n",
        "num_experts = 5 # number of experts\n",
        "load_initialized_experts = False # whether to load already pre-trained experts\n",
        "model_for_initialized_experts ='' # path to pre-trained experts\n",
        "cuda = not no_cuda and torch.cuda.is_available()\n",
        "device = torch.device(\"cuda\" if cuda else \"cpu\")"
      ],
      "metadata": {
        "id": "34dGwRNq-rid"
      },
      "execution_count": 3,
      "outputs": []
    },
    {
      "cell_type": "code",
      "source": [
        "# Load dataset Original\n",
        "transform_org = transforms.Compose([\n",
        "    transforms.ToTensor(),\n",
        "    transforms.Normalize((0.1307,), (0.3081,))\n",
        "])\n",
        "dataset_train = datasets.MNIST(\n",
        "    root=\"data\",\n",
        "    train=True,\n",
        "    download=True,\n",
        "    transform=transform_org\n",
        ")\n",
        "\n",
        "dataset_test = datasets.MNIST(\n",
        "    root=\"data\",\n",
        "    train=False,\n",
        "    download=True,\n",
        "    transform=transform_org\n",
        ")\n",
        "\n",
        "# Create Dataloader from orginal dataset\n",
        "data_train = DataLoader(dataset_train, batch_size=batch_size, shuffle=True, num_workers=int(cuda), pin_memory=cuda)"
      ],
      "metadata": {
        "id": "4_xktOtGtCja"
      },
      "execution_count": 4,
      "outputs": []
    },
    {
      "cell_type": "code",
      "source": [
        "# Show Sample Data from Orginal Dataset\n",
        "figure = plt.figure(figsize=(8, 8))\n",
        "cols, rows = 3, 3\n",
        "for i in range(1, cols * rows + 1):\n",
        "    sample_idx = torch.randint(len(dataset_train), size=(1,)).item()\n",
        "    img, label = dataset_train[sample_idx]\n",
        "    figure.add_subplot(rows, cols, i)\n",
        "    plt.axis(\"off\")\n",
        "    plt.imshow(img.squeeze(), cmap=\"gray\")\n",
        "plt.show()\n",
        "\n",
        "# Train and Test Dataset Size\n",
        "print('Train Size: {}, Test Size: {}'.format(len(dataset_train),len(dataset_test)))"
      ],
      "metadata": {
        "colab": {
          "base_uri": "https://localhost:8080/",
          "height": 670
        },
        "id": "9Ynu63nJdkGu",
        "outputId": "e6d67d5c-5053-48f9-8937-d7604994aa2f"
      },
      "execution_count": 5,
      "outputs": [
        {
          "output_type": "display_data",
          "data": {
            "text/plain": [
              "<Figure size 800x800 with 9 Axes>"
            ],
            "image/png": "[encoded data removed]"
          },
          "metadata": {}
        },
        {
          "output_type": "stream",
          "name": "stdout",
          "text": [
            "Train Size: 60000, Test Size: 10000\n"
          ]
        }
      ]
    },
    {
      "cell_type": "code",
      "source": [
        "class AddGaussianNoise(object):\n",
        "    def __init__(self, mean=0., std=1.):\n",
        "        self.std = std\n",
        "        self.mean = mean\n",
        "\n",
        "    def __call__(self, tensor):\n",
        "        return tensor + torch.randn(tensor.size()) * self.std + self.mean\n",
        "\n",
        "    def __repr__(self):\n",
        "        return self.__class__.__name__ + '(mean={0}, std={1})'.format(self.mean, self.std)"
      ],
      "metadata": {
        "id": "jzrj7ILQ8p-V"
      },
      "execution_count": 6,
      "outputs": []
    },
    {
      "cell_type": "code",
      "source": [
        "# Dataset with added Gaussian Noise\n",
        "transform_noise = transforms.Compose([\n",
        "    transforms.ToTensor(),\n",
        "    AddGaussianNoise(0., 0.25),\n",
        "    transforms.Normalize((0.1307,), (0.3081,))\n",
        "])\n",
        "\n",
        "dataset_train_noise = datasets.MNIST(\n",
        "    root=\"data\",\n",
        "    train=True,\n",
        "    download=True,\n",
        "    transform=transform_noise\n",
        ")\n",
        "data_train_noise = DataLoader(dataset_train_noise, batch_size=batch_size, shuffle=True, num_workers=int(cuda), pin_memory=cuda)"
      ],
      "metadata": {
        "id": "TPLX105X9UJS"
      },
      "execution_count": 7,
      "outputs": []
    },
    {
      "cell_type": "code",
      "source": [
        "# Show Sample Data from Noise Added Dataset\n",
        "figure = plt.figure(figsize=(8, 8))\n",
        "cols, rows = 3, 3\n",
        "for i in range(1, cols * rows + 1):\n",
        "    sample_idx = torch.randint(len(dataset_train_noise), size=(1,)).item()\n",
        "    img, label = dataset_train_noise[sample_idx]\n",
        "    figure.add_subplot(rows, cols, i)\n",
        "    plt.axis(\"off\")\n",
        "    plt.imshow(img.squeeze(), cmap=\"gray\")\n",
        "plt.show()"
      ],
      "metadata": {
        "colab": {
          "base_uri": "https://localhost:8080/",
          "height": 653
        },
        "id": "jS-8qVOU-W0D",
        "outputId": "01b4bd39-9a62-4b97-b039-d140f74cbcc7"
      },
      "execution_count": 8,
      "outputs": [
        {
          "output_type": "display_data",
          "data": {
            "text/plain": [
              "<Figure size 800x800 with 9 Axes>"
            ],
            "image/png": "[encoded data removed]"
          },
          "metadata": {}
        }
      ]
    },
    {
      "cell_type": "code",
      "source": [
        "# Dataset of Inverted images\n",
        "transform_negative = transforms.Compose([\n",
        "    transforms.ToTensor(),\n",
        "    transforms.Lambda(lambda x: transforms.functional.invert(x)),\n",
        "    transforms.Normalize((0.1307,), (0.3081,))\n",
        "])\n",
        "\n",
        "dataset_train_negative = datasets.MNIST(\n",
        "    root=\"data\",\n",
        "    train=True,\n",
        "    download=True,\n",
        "    transform=transform_negative\n",
        ")\n",
        "data_train_negative = DataLoader(dataset_train_negative, batch_size=batch_size, shuffle=True, num_workers=int(cuda), pin_memory=cuda)"
      ],
      "metadata": {
        "id": "VL1kySoA4ApB"
      },
      "execution_count": 9,
      "outputs": []
    },
    {
      "cell_type": "code",
      "source": [
        "# Show Sample Data From Inverted Dataset\n",
        "figure = plt.figure(figsize=(8, 8))\n",
        "cols, rows = 3, 3\n",
        "for i in range(1, cols * rows + 1):\n",
        "    sample_idx = torch.randint(len(dataset_train_negative), size=(1,)).item()\n",
        "    img, label = dataset_train_negative[sample_idx]\n",
        "    figure.add_subplot(rows, cols, i)\n",
        "    plt.axis(\"off\")\n",
        "    plt.imshow(img.squeeze(), cmap=\"gray\")\n",
        "plt.show()"
      ],
      "metadata": {
        "colab": {
          "base_uri": "https://localhost:8080/",
          "height": 653
        },
        "id": "tYUU_BOQ9lRU",
        "outputId": "1ebc563a-eb3a-4d76-aed0-322e0e5f5ca5"
      },
      "execution_count": 10,
      "outputs": [
        {
          "output_type": "display_data",
          "data": {
            "text/plain": [
              "<Figure size 800x800 with 9 Axes>"
            ],
            "image/png": "[encoded data removed]"
          },
          "metadata": {}
        }
      ]
    },
    {
      "cell_type": "code",
      "source": [
        "# Combining Datasets\n",
        "\n",
        "indices_noise = torch.randperm(len(dataset_train))[:int(len(dataset_train)/2)]\n",
        "indices_negative = torch.randperm(len(dataset_train))[:int(len(dataset_train)/2)]\n",
        "dataset_train_noise = Subset(dataset_train_noise, indices_noise)\n",
        "dataset_train_negative = Subset(dataset_train_negative, indices_negative)\n",
        "dataset_train_transformed = ConcatDataset([dataset_train_noise, dataset_train_negative])\n",
        "data_train_transformed = DataLoader(dataset_train_transformed, batch_size=batch_size, shuffle=True, num_workers=int(cuda), pin_memory=cuda)"
      ],
      "metadata": {
        "id": "-CiYVnTKPLoC"
      },
      "execution_count": 11,
      "outputs": []
    },
    {
      "cell_type": "code",
      "source": [
        "# Show Sample Data From Transformed Dataset\n",
        "figure = plt.figure(figsize=(8, 8))\n",
        "cols, rows = 3, 3\n",
        "for i in range(1, cols * rows + 1):\n",
        "    sample_idx = torch.randint(len(dataset_train_transformed), size=(1,)).item()\n",
        "    img, label = dataset_train_transformed[sample_idx]\n",
        "    figure.add_subplot(rows, cols, i)\n",
        "    plt.axis(\"off\")\n",
        "    plt.imshow(img.squeeze(), cmap=\"gray\")\n",
        "plt.show()"
      ],
      "metadata": {
        "colab": {
          "base_uri": "https://localhost:8080/",
          "height": 653
        },
        "id": "uAK0WOQXTLRg",
        "outputId": "71fc1011-03d3-4817-8be0-560119623798"
      },
      "execution_count": 12,
      "outputs": [
        {
          "output_type": "display_data",
          "data": {
            "text/plain": [
              "<Figure size 800x800 with 9 Axes>"
            ],
            "image/png": "[encoded data removed]"
          },
          "metadata": {}
        }
      ]
    },
    {
      "cell_type": "markdown",
      "source": [
        "**Model**"
      ],
      "metadata": {
        "id": "A-i5D6oFmp75"
      }
    },
    {
      "cell_type": "code",
      "execution_count": 13,
      "metadata": {
        "id": "xk9oaoUcc9SR"
      },
      "outputs": [],
      "source": [
        "import torch.nn as nn"
      ]
    },
    {
      "cell_type": "code",
      "source": [
        "# Random seed\n",
        "torch.manual_seed(seed)\n",
        "torch.manual_seed(seed)\n",
        "if cuda:\n",
        "    torch.cuda.manual_seed_all(seed)\n",
        "\n",
        "# Name of The Experiment\n",
        "timestamp = str(int(time.time()))\n",
        "if name == '':\n",
        "    name = 'n_exp_{}_bs_{}_lri_{}_lre_{}_lrd_{}_ei_{}_e_{}_oi_{}_oe_{}_oe_{}_{}'.format(\n",
        "        num_experts, batch_size, learning_rate_initialize,\n",
        "        learning_rate_expert, learning_rate_discriminator, epochs_init,\n",
        "        epochs, optimizer_initialize, optimizer_experts, optimizer_discriminator,\n",
        "        timestamp)\n",
        "else:\n",
        "    name = '{}_{}'.format(name, timestamp)\n",
        "\n",
        "print('\\nExperiment: {}\\n'.format(name))\n",
        "\n",
        "# Logging. To run: tensorboard --logdir <args.outdir>/logs\n",
        "log_dir = os.path.join(outdir, 'logs')\n",
        "if not os.path.exists(log_dir):\n",
        "    os.mkdir(log_dir)\n",
        "log_dir_exp = os.path.join(log_dir, name)\n",
        "os.mkdir(log_dir_exp)\n",
        "writer = SummaryWriter(log_dir=log_dir_exp)\n",
        "\n",
        "# Directory for checkpoints\n",
        "checkpt_dir = os.path.join(outdir, 'checkpoints')\n",
        "if not os.path.exists(checkpt_dir):\n",
        "    os.mkdir(checkpt_dir)\n"
      ],
      "metadata": {
        "colab": {
          "base_uri": "https://localhost:8080/"
        },
        "id": "UUGYJ5jXgk-8",
        "outputId": "548b942f-bbd3-496a-a592-3b2cdc91af66"
      },
      "execution_count": 15,
      "outputs": [
        {
          "output_type": "stream",
          "name": "stdout",
          "text": [
            "\n",
            "Experiment: n_exp_5_bs_128_lri_0.1_lre_0.001_lrd_0.001_ei_100_e_100_oi_adam_oe_adam_oe_adam_1688030864_1688030876\n",
            "\n"
          ]
        }
      ]
    },
    {
      "cell_type": "code",
      "source": [
        "class Expert(nn.Module):\n",
        "\n",
        "    def __init__(self):\n",
        "        super(Expert, self).__init__()\n",
        "\n",
        "        # Architecture\n",
        "        def block(in_feat, out_feat, normalize=True):\n",
        "            layers = [nn.Linear(in_feat, out_feat)]\n",
        "            if normalize:\n",
        "                layers.append(nn.BatchNorm1d(out_feat, 0.8))\n",
        "            layers.append(nn.LeakyReLU(0.2, inplace=True))\n",
        "            return layers\n",
        "\n",
        "        self.model = nn.Sequential(\n",
        "            *block(input_size, 128, normalize=False),\n",
        "            *block(128, 256),\n",
        "            *block(256, 512),\n",
        "            *block(512, 1024),\n",
        "            nn.Linear(1024, input_size),\n",
        "            nn.Tanh()\n",
        "            )\n",
        "\n",
        "    def forward(self, input):\n",
        "        output = self.model(input)\n",
        "        return output"
      ],
      "metadata": {
        "id": "eZZNGeR6eJPD"
      },
      "execution_count": 24,
      "outputs": []
    },
    {
      "cell_type": "code",
      "source": [
        "class Discriminator(nn.Module):\n",
        "\n",
        "    def __init__(self):\n",
        "        super(Discriminator, self).__init__()\n",
        "\n",
        "        # Architecture\n",
        "        self.model = nn.Sequential(\n",
        "            nn.Linear(input_size, 512),\n",
        "            nn.LeakyReLU(0.2, inplace=True),\n",
        "            nn.Linear(512, 256),\n",
        "            nn.LeakyReLU(0.2, inplace=True),\n",
        "            nn.Linear(256, 1),\n",
        "            nn.Sigmoid()\n",
        "        )\n",
        "\n",
        "    def forward(self, input):\n",
        "        validity = self.model(input)\n",
        "        return validity"
      ],
      "metadata": {
        "id": "gSjMcQ4cmVn4"
      },
      "execution_count": 17,
      "outputs": []
    },
    {
      "cell_type": "code",
      "source": [
        "def initialize_expert(epochs, expert, i, optimizer, loss, data_train, writer):\n",
        "    print(\"Initializing expert [{}] as identity on preturbed data\".format(i+1))\n",
        "    expert.train()\n",
        "    for epoch in range(epochs):\n",
        "        total_loss = 0\n",
        "        n_samples = 0\n",
        "        for batch in data_train:\n",
        "            x_transformed, y_transformed = batch\n",
        "            batch_size = x_transformed.size(0)\n",
        "            n_samples += batch_size\n",
        "            x_transformed = x_transformed.view(x_transformed.size(0), -1).to(device)\n",
        "            x_hat = expert(x_transformed)\n",
        "            loss_rec = loss(x_hat, x_transformed)\n",
        "            total_loss += loss_rec.item()*batch_size\n",
        "            optimizer.zero_grad()\n",
        "            loss_rec.backward()\n",
        "            optimizer.step()\n",
        "\n",
        "        # Loss\n",
        "        mean_loss = total_loss/n_samples\n",
        "        print(\"initialization epoch [{}] expert [{}] loss {:.4f}\".format(epoch+1, i+1, mean_loss))\n",
        "        writer.add_scalar('expert_{}_initialization_loss'.format(i+1), mean_loss, epoch+1)\n",
        "        if mean_loss < 0.002:\n",
        "            break\n",
        "\n",
        "    torch.save(expert.state_dict(), checkpt_dir + '/{}_E_{}_init.pth'.format(name, i + 1))"
      ],
      "metadata": {
        "id": "gda4ox0iAd_1"
      },
      "execution_count": 18,
      "outputs": []
    },
    {
      "cell_type": "code",
      "source": [
        "def train_system(epoch, experts, discriminator, optimizers_E, optimizer_D, criterion, data_train, writer):\n",
        "    discriminator.train()\n",
        "    for i, expert in enumerate(experts):\n",
        "        expert.train()\n",
        "\n",
        "    # Labels for canonical vs transformed samples\n",
        "    canonical_label = 1\n",
        "    transformed_label = 0\n",
        "\n",
        "    # Keep track of losses\n",
        "    total_loss_D_canon = 0\n",
        "    total_loss_D_transformed = 0\n",
        "    n_samples = 0\n",
        "    total_loss_expert = [0 for i in range(len(experts))]\n",
        "    total_samples_expert = [0 for i in range(len(experts))]\n",
        "    expert_scores_D = [0 for i in range(len(experts))]\n",
        "    expert_winning_samples_idx = [[] for i in range(len(experts))]\n",
        "\n",
        "    # Iterate through data\n",
        "    for idx, batch in enumerate(data_train):\n",
        "        x_canon, x_transf = batch\n",
        "        # x_transf = torch.randn(x_canon.size()) # TODO temporary since do not have the preturbed data yet\n",
        "        batch_size = x_canon.size(0)\n",
        "        n_samples += batch_size\n",
        "        x_canon = x_canon.view(batch_size, -1).to(device)\n",
        "        x_transf = x_transf.view(batch_size, -1).to(device)\n",
        "\n",
        "        # Train Discriminator on canonical distribution\n",
        "        scores_canon = discriminator(x_canon)\n",
        "        labels = torch.full((batch_size,), canonical_label, device=device).unsqueeze(dim=1)\n",
        "        loss_D_canon = criterion(scores_canon, labels)\n",
        "        total_loss_D_canon += loss_D_canon.item() * batch_size\n",
        "        optimizer_D.zero_grad()\n",
        "        loss_D_canon.backward()\n",
        "\n",
        "        # Train Discriminator on experts output\n",
        "        labels.fill_(transformed_label)\n",
        "        loss_D_transformed = 0\n",
        "        exp_outputs = []\n",
        "        expert_scores = []\n",
        "        for i, expert in enumerate(experts):\n",
        "            exp_output = expert(x_transf)\n",
        "            exp_outputs.append(exp_output.view(batch_size, 1, input_size))\n",
        "            exp_scores = discriminator(exp_output.detach())\n",
        "            expert_scores.append(exp_scores)\n",
        "            loss_D_transformed += criterion(exp_scores, labels)\n",
        "        loss_D_transformed = loss_D_transformed / num_experts\n",
        "        total_loss_D_transformed += loss_D_transformed.item() * batch_size\n",
        "        loss_D_transformed.backward()\n",
        "        optimizer_D.step()\n",
        "\n",
        "        # Train experts\n",
        "        exp_outputs = torch.cat(exp_outputs, dim=1)\n",
        "        expert_scores = torch.cat(expert_scores, dim=1)\n",
        "        mask_winners = expert_scores.argmax(dim=1)\n",
        "\n",
        "        # Update each expert on samples it won\n",
        "        for i, expert in enumerate(experts):\n",
        "            winning_indexes = mask_winners.eq(i).nonzero().squeeze(dim=-1)\n",
        "            accrue = 0 if idx == 0 else 1\n",
        "            expert_winning_samples_idx[i] += (winning_indexes+accrue*n_samples).tolist()\n",
        "            n_expert_samples = winning_indexes.size(0)\n",
        "            if n_expert_samples > 0:\n",
        "                total_samples_expert[i] += n_expert_samples\n",
        "                exp_samples = exp_outputs[winning_indexes, i]\n",
        "                D_E_x_transf = discriminator(exp_samples)\n",
        "                labels = torch.full((n_expert_samples,), canonical_label,\n",
        "                                    device=device).unsqueeze(dim=1)\n",
        "                loss_E = criterion(D_E_x_transf, labels)\n",
        "                total_loss_expert[i] += loss_E.item() * n_expert_samples\n",
        "                optimizers_E[i].zero_grad()\n",
        "                loss_E.backward(retain_graph=True) # TODO figure out why retain graph is necessary\n",
        "                optimizers_E[i].step()\n",
        "                expert_scores_D[i] += D_E_x_transf.squeeze().sum().item()\n",
        "\n",
        "    # Logging\n",
        "    mean_loss_D_generated = total_loss_D_transformed / n_samples\n",
        "    mean_loss_D_canon = total_loss_D_canon / n_samples\n",
        "    print(\"epoch [{}] loss_D_transformed {:.4f}\".format(epoch + 1, mean_loss_D_generated))\n",
        "    print(\"epoch [{}] loss_D_canon {:.4f}\".format(epoch + 1, mean_loss_D_canon))\n",
        "    writer.add_scalar('loss_D_canonical', mean_loss_D_canon, epoch + 1)\n",
        "    writer.add_scalar('loss_D_transformed', mean_loss_D_generated, epoch + 1)\n",
        "    for i in range(len(experts)):\n",
        "        print(\"epoch [{}] expert [{}] n_samples {}\".format(epoch + 1, i + 1, total_samples_expert[i]))\n",
        "        writer.add_scalar('expert_{}_n_samples'.format(i + 1), total_samples_expert[i], epoch + 1)\n",
        "        writer.add_text('expert_{}_winning_samples'.format(i + 1),\n",
        "                           \":\".join([str(j) for j in expert_winning_samples_idx[i]]), epoch + 1)\n",
        "        if total_samples_expert[i]> 0:\n",
        "            mean_loss_expert = total_loss_expert[i] / total_samples_expert[i]\n",
        "            mean_expert_scores = expert_scores_D[i] / total_samples_expert[i]\n",
        "            print(\"epoch [{}] expert [{}] loss {:.4f}\".format(epoch + 1, i + 1, mean_loss_expert))\n",
        "            print(\"epoch [{}] expert [{}] scores {:.4f}\".format(epoch + 1, i + 1, mean_expert_scores))\n",
        "            writer.add_scalar('expert_{}_loss'.format(i + 1), mean_loss_expert, epoch + 1)\n",
        "            writer.add_scalar('expert_{}_scores'.format(i + 1), mean_expert_scores, epoch + 1)"
      ],
      "metadata": {
        "id": "W90mRU5nk4X2"
      },
      "execution_count": 19,
      "outputs": []
    },
    {
      "cell_type": "code",
      "source": [
        "def init_weights(model, path):\n",
        "    pre_trained_dict = torch.load(path, map_location=lambda storage, loc: storage)\n",
        "    for layer in pre_trained_dict.keys():\n",
        "        model.state_dict()[layer].copy_(pre_trained_dict[layer])\n",
        "    for param in model.parameters():\n",
        "        param.requires_grad = True"
      ],
      "metadata": {
        "id": "4jyCt9R_hnlh"
      },
      "execution_count": 20,
      "outputs": []
    },
    {
      "cell_type": "code",
      "source": [
        "# Model\n",
        "experts = [Expert().to(device) for i in range(num_experts)]\n",
        "discriminator = Discriminator().to(device)"
      ],
      "metadata": {
        "id": "Z2r3Zgel5g0L"
      },
      "execution_count": 25,
      "outputs": []
    },
    {
      "cell_type": "code",
      "source": [
        "# Losses\n",
        "loss_initial = torch.nn.MSELoss(reduction='mean')\n",
        "criterion = torch.nn.BCELoss(reduction='mean')"
      ],
      "metadata": {
        "id": "xqGpDxko7qRj"
      },
      "execution_count": 26,
      "outputs": []
    },
    {
      "cell_type": "code",
      "source": [
        "# Initialize Experts as approximately Identity on Transformed Data\n",
        "for i, expert in enumerate(experts):\n",
        "    if load_initialized_experts:\n",
        "        path = os.path.join(checkpt_dir,\n",
        "                            model_for_initialized_experts + '_E_{}_init.pth'.format(i+1))\n",
        "        init_weights(expert, path)\n",
        "    else:\n",
        "        if optimizer_initialize == 'adam':\n",
        "            optimizer_E = torch.optim.Adam(expert.parameters(), lr=learning_rate_initialize,\n",
        "                                                weight_decay=weight_decay)\n",
        "        elif optimizer_initialize == 'sgd':\n",
        "            optimizer_E = torch.optim.SGD(expert.parameters(), lr=learning_rate_initialize,\n",
        "                                              weight_decay=weight_decay)\n",
        "        else:\n",
        "            raise NotImplementedError\n",
        "        initialize_expert(epochs_init, expert, i, optimizer_E, loss_initial, data_train_transformed, writer)\n"
      ],
      "metadata": {
        "id": "3h1C9aIW9_-v",
        "colab": {
          "base_uri": "https://localhost:8080/"
        },
        "outputId": "4a82c7d9-a50a-4601-dcee-09dcdab4a70c"
      },
      "execution_count": null,
      "outputs": [
        {
          "output_type": "stream",
          "name": "stdout",
          "text": [
            "Initializing expert [1] as identity on preturbed data\n",
            "initialization epoch [1] expert [1] loss 2.3403\n",
            "initialization epoch [2] expert [1] loss 2.3547\n",
            "initialization epoch [3] expert [1] loss 2.3860\n",
            "initialization epoch [4] expert [1] loss 2.3829\n",
            "initialization epoch [5] expert [1] loss 2.3792\n",
            "initialization epoch [6] expert [1] loss 2.3955\n",
            "initialization epoch [7] expert [1] loss 2.4883\n",
            "initialization epoch [8] expert [1] loss 2.5580\n",
            "initialization epoch [9] expert [1] loss 2.6810\n",
            "initialization epoch [10] expert [1] loss 2.6473\n",
            "initialization epoch [11] expert [1] loss 2.6684\n",
            "initialization epoch [12] expert [1] loss 2.6631\n",
            "initialization epoch [13] expert [1] loss 2.6619\n",
            "initialization epoch [14] expert [1] loss 2.6551\n",
            "initialization epoch [15] expert [1] loss 2.7059\n",
            "initialization epoch [16] expert [1] loss 2.6960\n",
            "initialization epoch [17] expert [1] loss 2.6657\n",
            "initialization epoch [18] expert [1] loss 2.6561\n",
            "initialization epoch [19] expert [1] loss 2.6551\n",
            "initialization epoch [20] expert [1] loss 2.6561\n",
            "initialization epoch [21] expert [1] loss 2.6553\n",
            "initialization epoch [22] expert [1] loss 2.6696\n",
            "initialization epoch [23] expert [1] loss 2.7577\n",
            "initialization epoch [24] expert [1] loss 2.7435\n",
            "initialization epoch [25] expert [1] loss 2.7148\n",
            "initialization epoch [26] expert [1] loss 2.6402\n",
            "initialization epoch [27] expert [1] loss 2.5999\n",
            "initialization epoch [28] expert [1] loss 2.5998\n",
            "initialization epoch [29] expert [1] loss 2.5971\n",
            "initialization epoch [30] expert [1] loss 2.5854\n",
            "initialization epoch [31] expert [1] loss 2.5814\n",
            "initialization epoch [32] expert [1] loss 2.5708\n",
            "initialization epoch [33] expert [1] loss 2.5623\n",
            "initialization epoch [34] expert [1] loss 2.5561\n",
            "initialization epoch [35] expert [1] loss 2.5507\n",
            "initialization epoch [36] expert [1] loss 2.5502\n",
            "initialization epoch [37] expert [1] loss 2.5439\n",
            "initialization epoch [38] expert [1] loss 2.5423\n",
            "initialization epoch [39] expert [1] loss 2.5446\n",
            "initialization epoch [40] expert [1] loss 2.5537\n",
            "initialization epoch [41] expert [1] loss 2.5457\n",
            "initialization epoch [42] expert [1] loss 2.5448\n",
            "initialization epoch [43] expert [1] loss 2.5431\n",
            "initialization epoch [44] expert [1] loss 2.5438\n",
            "initialization epoch [45] expert [1] loss 2.5424\n",
            "initialization epoch [46] expert [1] loss 2.5466\n",
            "initialization epoch [47] expert [1] loss 2.5445\n",
            "initialization epoch [48] expert [1] loss 2.5382\n",
            "initialization epoch [49] expert [1] loss 2.5367\n",
            "initialization epoch [50] expert [1] loss 2.5397\n",
            "initialization epoch [51] expert [1] loss 2.5446\n",
            "initialization epoch [52] expert [1] loss 2.5473\n",
            "initialization epoch [53] expert [1] loss 2.5420\n",
            "initialization epoch [54] expert [1] loss 2.5383\n",
            "initialization epoch [55] expert [1] loss 2.5375\n",
            "initialization epoch [56] expert [1] loss 2.5375\n",
            "initialization epoch [57] expert [1] loss 2.5366\n",
            "initialization epoch [58] expert [1] loss 2.5362\n",
            "initialization epoch [59] expert [1] loss 2.5393\n",
            "initialization epoch [60] expert [1] loss 2.5388\n",
            "initialization epoch [61] expert [1] loss 2.5378\n",
            "initialization epoch [62] expert [1] loss 2.5393\n",
            "initialization epoch [63] expert [1] loss 2.5412\n",
            "initialization epoch [64] expert [1] loss 2.5381\n",
            "initialization epoch [65] expert [1] loss 2.5374\n",
            "initialization epoch [66] expert [1] loss 2.5398\n",
            "initialization epoch [67] expert [1] loss 2.5424\n",
            "initialization epoch [68] expert [1] loss 2.5458\n",
            "initialization epoch [69] expert [1] loss 2.5421\n",
            "initialization epoch [70] expert [1] loss 2.5601\n",
            "initialization epoch [71] expert [1] loss 2.5822\n",
            "initialization epoch [72] expert [1] loss 2.5734\n",
            "initialization epoch [73] expert [1] loss 2.5666\n",
            "initialization epoch [74] expert [1] loss 2.5579\n",
            "initialization epoch [75] expert [1] loss 2.5441\n",
            "initialization epoch [76] expert [1] loss 2.5384\n",
            "initialization epoch [77] expert [1] loss 2.5333\n",
            "initialization epoch [78] expert [1] loss 2.5316\n",
            "initialization epoch [79] expert [1] loss 2.5330\n",
            "initialization epoch [80] expert [1] loss 2.5320\n",
            "initialization epoch [81] expert [1] loss 2.5349\n",
            "initialization epoch [82] expert [1] loss 2.5361\n",
            "initialization epoch [83] expert [1] loss 2.5774\n",
            "initialization epoch [84] expert [1] loss 2.5706\n",
            "initialization epoch [85] expert [1] loss 2.5631\n",
            "initialization epoch [86] expert [1] loss 2.5625\n",
            "initialization epoch [87] expert [1] loss 2.5609\n",
            "initialization epoch [88] expert [1] loss 2.5550\n",
            "initialization epoch [89] expert [1] loss 2.5532\n",
            "initialization epoch [90] expert [1] loss 2.5526\n",
            "initialization epoch [91] expert [1] loss 2.5431\n",
            "initialization epoch [92] expert [1] loss 2.5299\n",
            "initialization epoch [93] expert [1] loss 2.5296\n",
            "initialization epoch [94] expert [1] loss 2.5318\n",
            "initialization epoch [95] expert [1] loss 2.5306\n",
            "initialization epoch [96] expert [1] loss 2.5315\n",
            "initialization epoch [97] expert [1] loss 2.5312\n",
            "initialization epoch [98] expert [1] loss 2.5327\n",
            "initialization epoch [99] expert [1] loss 2.5536\n",
            "initialization epoch [100] expert [1] loss 2.5466\n",
            "Initializing expert [2] as identity on preturbed data\n",
            "initialization epoch [1] expert [2] loss 2.3567\n",
            "initialization epoch [2] expert [2] loss 2.3671\n",
            "initialization epoch [3] expert [2] loss 2.3960\n",
            "initialization epoch [4] expert [2] loss 2.3964\n",
            "initialization epoch [5] expert [2] loss 2.3962\n",
            "initialization epoch [6] expert [2] loss 2.3964\n",
            "initialization epoch [7] expert [2] loss 2.3967\n",
            "initialization epoch [8] expert [2] loss 2.3963\n",
            "initialization epoch [9] expert [2] loss 2.3965\n",
            "initialization epoch [10] expert [2] loss 2.3964\n",
            "initialization epoch [11] expert [2] loss 2.3965\n",
            "initialization epoch [12] expert [2] loss 2.3966\n",
            "initialization epoch [13] expert [2] loss 2.3962\n",
            "initialization epoch [14] expert [2] loss 2.3964\n",
            "initialization epoch [15] expert [2] loss 2.3963\n",
            "initialization epoch [16] expert [2] loss 2.3966\n",
            "initialization epoch [17] expert [2] loss 2.3968\n",
            "initialization epoch [18] expert [2] loss 2.3962\n",
            "initialization epoch [19] expert [2] loss 2.3965\n",
            "initialization epoch [20] expert [2] loss 2.3965\n",
            "initialization epoch [21] expert [2] loss 2.3967\n",
            "initialization epoch [22] expert [2] loss 2.3968\n",
            "initialization epoch [23] expert [2] loss 2.3970\n",
            "initialization epoch [24] expert [2] loss 2.3964\n",
            "initialization epoch [25] expert [2] loss 2.3969\n",
            "initialization epoch [26] expert [2] loss 2.3970\n",
            "initialization epoch [27] expert [2] loss 2.3965\n",
            "initialization epoch [28] expert [2] loss 2.3967\n",
            "initialization epoch [29] expert [2] loss 2.3965\n",
            "initialization epoch [30] expert [2] loss 2.3968\n",
            "initialization epoch [31] expert [2] loss 2.3967\n",
            "initialization epoch [32] expert [2] loss 2.3965\n",
            "initialization epoch [33] expert [2] loss 2.3967\n",
            "initialization epoch [34] expert [2] loss 2.3966\n",
            "initialization epoch [35] expert [2] loss 2.3965\n",
            "initialization epoch [36] expert [2] loss 2.3967\n",
            "initialization epoch [37] expert [2] loss 2.3966\n",
            "initialization epoch [38] expert [2] loss 2.3963\n",
            "initialization epoch [39] expert [2] loss 2.3965\n",
            "initialization epoch [40] expert [2] loss 2.3967\n",
            "initialization epoch [41] expert [2] loss 2.3965\n",
            "initialization epoch [42] expert [2] loss 2.3962\n",
            "initialization epoch [43] expert [2] loss 2.3966\n",
            "initialization epoch [44] expert [2] loss 2.3962\n",
            "initialization epoch [45] expert [2] loss 2.3965\n",
            "initialization epoch [46] expert [2] loss 2.3964\n",
            "initialization epoch [47] expert [2] loss 2.3963\n",
            "initialization epoch [48] expert [2] loss 2.3965\n",
            "initialization epoch [49] expert [2] loss 2.3965\n",
            "initialization epoch [50] expert [2] loss 2.3964\n",
            "initialization epoch [51] expert [2] loss 2.3966\n",
            "initialization epoch [52] expert [2] loss 2.3965\n",
            "initialization epoch [53] expert [2] loss 2.3965\n",
            "initialization epoch [54] expert [2] loss 2.3965\n",
            "initialization epoch [55] expert [2] loss 2.3966\n",
            "initialization epoch [56] expert [2] loss 2.3965\n",
            "initialization epoch [57] expert [2] loss 2.3963\n",
            "initialization epoch [58] expert [2] loss 2.3969\n",
            "initialization epoch [59] expert [2] loss 2.3965\n",
            "initialization epoch [60] expert [2] loss 2.3962\n",
            "initialization epoch [61] expert [2] loss 2.3968\n",
            "initialization epoch [62] expert [2] loss 2.3964\n",
            "initialization epoch [63] expert [2] loss 2.3964\n",
            "initialization epoch [64] expert [2] loss 2.3967\n",
            "initialization epoch [65] expert [2] loss 2.3968\n",
            "initialization epoch [66] expert [2] loss 2.3968\n",
            "initialization epoch [67] expert [2] loss 2.3965\n",
            "initialization epoch [68] expert [2] loss 2.3967\n",
            "initialization epoch [69] expert [2] loss 2.3965\n",
            "initialization epoch [70] expert [2] loss 2.3964\n",
            "initialization epoch [71] expert [2] loss 2.3967\n",
            "initialization epoch [72] expert [2] loss 2.3967\n",
            "initialization epoch [73] expert [2] loss 2.3965\n",
            "initialization epoch [74] expert [2] loss 2.3970\n",
            "initialization epoch [75] expert [2] loss 2.3965\n",
            "initialization epoch [76] expert [2] loss 2.3966\n",
            "initialization epoch [77] expert [2] loss 2.3964\n",
            "initialization epoch [78] expert [2] loss 2.3962\n",
            "initialization epoch [79] expert [2] loss 2.3965\n",
            "initialization epoch [80] expert [2] loss 2.3965\n",
            "initialization epoch [81] expert [2] loss 2.3962\n",
            "initialization epoch [82] expert [2] loss 2.3967\n",
            "initialization epoch [83] expert [2] loss 2.3965\n",
            "initialization epoch [84] expert [2] loss 2.3966\n",
            "initialization epoch [85] expert [2] loss 2.3968\n",
            "initialization epoch [86] expert [2] loss 2.3967\n",
            "initialization epoch [87] expert [2] loss 2.3968\n",
            "initialization epoch [88] expert [2] loss 2.3963\n",
            "initialization epoch [89] expert [2] loss 2.3964\n",
            "initialization epoch [90] expert [2] loss 2.3962\n",
            "initialization epoch [91] expert [2] loss 2.3969\n",
            "initialization epoch [92] expert [2] loss 2.3967\n",
            "initialization epoch [93] expert [2] loss 2.3971\n",
            "initialization epoch [94] expert [2] loss 2.3967\n",
            "initialization epoch [95] expert [2] loss 2.3964\n",
            "initialization epoch [96] expert [2] loss 2.3963\n",
            "initialization epoch [97] expert [2] loss 2.3967\n",
            "initialization epoch [98] expert [2] loss 2.3964\n",
            "initialization epoch [99] expert [2] loss 2.3965\n",
            "initialization epoch [100] expert [2] loss 2.3966\n",
            "Initializing expert [3] as identity on preturbed data\n",
            "initialization epoch [1] expert [3] loss 2.3419\n",
            "initialization epoch [2] expert [3] loss 2.3310\n",
            "initialization epoch [3] expert [3] loss 2.3459\n",
            "initialization epoch [4] expert [3] loss 2.3667\n",
            "initialization epoch [5] expert [3] loss 2.3677\n",
            "initialization epoch [6] expert [3] loss 2.3870\n",
            "initialization epoch [7] expert [3] loss 2.3864\n",
            "initialization epoch [8] expert [3] loss 2.3925\n",
            "initialization epoch [9] expert [3] loss 2.5146\n",
            "initialization epoch [10] expert [3] loss 2.4567\n",
            "initialization epoch [11] expert [3] loss 2.4204\n",
            "initialization epoch [12] expert [3] loss 2.4948\n",
            "initialization epoch [13] expert [3] loss 2.5333\n",
            "initialization epoch [14] expert [3] loss 2.5139\n",
            "initialization epoch [15] expert [3] loss 2.5489\n",
            "initialization epoch [16] expert [3] loss 2.6266\n",
            "initialization epoch [17] expert [3] loss 2.6160\n",
            "initialization epoch [18] expert [3] loss 2.6409\n",
            "initialization epoch [19] expert [3] loss 2.6646\n",
            "initialization epoch [20] expert [3] loss 2.6566\n",
            "initialization epoch [21] expert [3] loss 2.6788\n",
            "initialization epoch [22] expert [3] loss 2.5910\n",
            "initialization epoch [23] expert [3] loss 2.5710\n",
            "initialization epoch [24] expert [3] loss 2.5588\n",
            "initialization epoch [25] expert [3] loss 2.5528\n",
            "initialization epoch [26] expert [3] loss 2.5479\n",
            "initialization epoch [27] expert [3] loss 2.5556\n",
            "initialization epoch [28] expert [3] loss 2.5482\n",
            "initialization epoch [29] expert [3] loss 2.5402\n",
            "initialization epoch [30] expert [3] loss 2.5309\n",
            "initialization epoch [31] expert [3] loss 2.5165\n",
            "initialization epoch [32] expert [3] loss 2.5178\n",
            "initialization epoch [33] expert [3] loss 2.5139\n",
            "initialization epoch [34] expert [3] loss 2.5041\n",
            "initialization epoch [35] expert [3] loss 2.5109\n",
            "initialization epoch [36] expert [3] loss 2.5043\n",
            "initialization epoch [37] expert [3] loss 2.5017\n",
            "initialization epoch [38] expert [3] loss 2.4956\n",
            "initialization epoch [39] expert [3] loss 2.4930\n",
            "initialization epoch [40] expert [3] loss 2.4860\n",
            "initialization epoch [41] expert [3] loss 2.4825\n",
            "initialization epoch [42] expert [3] loss 2.4808\n",
            "initialization epoch [43] expert [3] loss 2.4739\n",
            "initialization epoch [44] expert [3] loss 2.4715\n",
            "initialization epoch [45] expert [3] loss 2.4717\n",
            "initialization epoch [46] expert [3] loss 2.4739\n",
            "initialization epoch [47] expert [3] loss 2.4721\n",
            "initialization epoch [48] expert [3] loss 2.4674\n",
            "initialization epoch [49] expert [3] loss 2.4653\n",
            "initialization epoch [50] expert [3] loss 2.4630\n",
            "initialization epoch [51] expert [3] loss 2.4616\n",
            "initialization epoch [52] expert [3] loss 2.4601\n",
            "initialization epoch [53] expert [3] loss 2.4587\n",
            "initialization epoch [54] expert [3] loss 2.4579\n",
            "initialization epoch [55] expert [3] loss 2.4582\n",
            "initialization epoch [56] expert [3] loss 2.4592\n",
            "initialization epoch [57] expert [3] loss 2.4585\n",
            "initialization epoch [58] expert [3] loss 2.4604\n",
            "initialization epoch [59] expert [3] loss 2.4590\n",
            "initialization epoch [60] expert [3] loss 2.4579\n",
            "initialization epoch [61] expert [3] loss 2.4599\n",
            "initialization epoch [62] expert [3] loss 2.4602\n",
            "initialization epoch [63] expert [3] loss 2.4566\n",
            "initialization epoch [64] expert [3] loss 2.4525\n",
            "initialization epoch [65] expert [3] loss 2.4501\n",
            "initialization epoch [66] expert [3] loss 2.4492\n",
            "initialization epoch [67] expert [3] loss 2.4502\n",
            "initialization epoch [68] expert [3] loss 2.4496\n",
            "initialization epoch [69] expert [3] loss 2.4454\n",
            "initialization epoch [70] expert [3] loss 2.4452\n",
            "initialization epoch [71] expert [3] loss 2.4475\n",
            "initialization epoch [72] expert [3] loss 2.4464\n",
            "initialization epoch [73] expert [3] loss 2.4533\n",
            "initialization epoch [74] expert [3] loss 2.4622\n",
            "initialization epoch [75] expert [3] loss 2.4540\n",
            "initialization epoch [76] expert [3] loss 2.4666\n",
            "initialization epoch [77] expert [3] loss 2.4621\n",
            "initialization epoch [78] expert [3] loss 2.4550\n",
            "initialization epoch [79] expert [3] loss 2.4516\n",
            "initialization epoch [80] expert [3] loss 2.4451\n",
            "initialization epoch [81] expert [3] loss 2.4393\n",
            "initialization epoch [82] expert [3] loss 2.4381\n",
            "initialization epoch [83] expert [3] loss 2.4376\n",
            "initialization epoch [85] expert [3] loss 2.4350\n",
            "initialization epoch [86] expert [3] loss 2.4337\n",
            "initialization epoch [87] expert [3] loss 2.4279\n",
            "initialization epoch [88] expert [3] loss 2.4240\n",
            "initialization epoch [89] expert [3] loss 2.4194\n",
            "initialization epoch [90] expert [3] loss 2.4192\n",
            "initialization epoch [91] expert [3] loss 2.4187\n",
            "initialization epoch [92] expert [3] loss 2.4226\n",
            "initialization epoch [93] expert [3] loss 2.4196\n",
            "initialization epoch [94] expert [3] loss 2.4206\n",
            "initialization epoch [95] expert [3] loss 2.4230\n",
            "initialization epoch [96] expert [3] loss 2.4294\n",
            "initialization epoch [97] expert [3] loss 2.4309\n",
            "initialization epoch [98] expert [3] loss 2.4262\n",
            "initialization epoch [99] expert [3] loss 2.4203\n",
            "initialization epoch [100] expert [3] loss 2.4221\n",
            "Initializing expert [4] as identity on preturbed data\n",
            "initialization epoch [1] expert [4] loss 2.3472\n",
            "initialization epoch [2] expert [4] loss 2.3266\n",
            "initialization epoch [3] expert [4] loss 2.3335\n",
            "initialization epoch [4] expert [4] loss 2.3513\n",
            "initialization epoch [5] expert [4] loss 2.3550\n",
            "initialization epoch [6] expert [4] loss 2.3548\n",
            "initialization epoch [7] expert [4] loss 2.3873\n",
            "initialization epoch [8] expert [4] loss 2.3887\n"
          ]
        }
      ]
    },
    {
      "cell_type": "code",
      "source": [
        "# next(iter(data_train))[0].dtype\n",
        "for i, expert in enumerate(experts):\n",
        "  print(expert.parameters)"
      ],
      "metadata": {
        "colab": {
          "base_uri": "https://localhost:8080/"
        },
        "id": "bfDr9CS_Yg7m",
        "outputId": "36ce08f5-83c0-4f60-92a5-08c413e3dfdd"
      },
      "execution_count": null,
      "outputs": [
        {
          "output_type": "stream",
          "name": "stdout",
          "text": [
            "<bound method Module.parameters of Expert(\n",
            "  (model): Sequential(\n",
            "    (0): Linear(in_features=784, out_features=128, bias=True)\n",
            "    (1): LeakyReLU(negative_slope=0.2, inplace=True)\n",
            "    (2): Linear(in_features=128, out_features=256, bias=True)\n",
            "    (3): BatchNorm1d(256, eps=0.8, momentum=0.1, affine=True, track_running_stats=True)\n",
            "    (4): LeakyReLU(negative_slope=0.2, inplace=True)\n",
            "    (5): Linear(in_features=256, out_features=512, bias=True)\n",
            "    (6): BatchNorm1d(512, eps=0.8, momentum=0.1, affine=True, track_running_stats=True)\n",
            "    (7): LeakyReLU(negative_slope=0.2, inplace=True)\n",
            "    (8): Linear(in_features=512, out_features=1024, bias=True)\n",
            "    (9): BatchNorm1d(1024, eps=0.8, momentum=0.1, affine=True, track_running_stats=True)\n",
            "    (10): LeakyReLU(negative_slope=0.2, inplace=True)\n",
            "    (11): Linear(in_features=1024, out_features=784, bias=True)\n",
            "    (12): Tanh()\n",
            "  )\n",
            ")>\n",
            "<bound method Module.parameters of Expert(\n",
            "  (model): Sequential(\n",
            "    (0): Linear(in_features=784, out_features=128, bias=True)\n",
            "    (1): LeakyReLU(negative_slope=0.2, inplace=True)\n",
            "    (2): Linear(in_features=128, out_features=256, bias=True)\n",
            "    (3): BatchNorm1d(256, eps=0.8, momentum=0.1, affine=True, track_running_stats=True)\n",
            "    (4): LeakyReLU(negative_slope=0.2, inplace=True)\n",
            "    (5): Linear(in_features=256, out_features=512, bias=True)\n",
            "    (6): BatchNorm1d(512, eps=0.8, momentum=0.1, affine=True, track_running_stats=True)\n",
            "    (7): LeakyReLU(negative_slope=0.2, inplace=True)\n",
            "    (8): Linear(in_features=512, out_features=1024, bias=True)\n",
            "    (9): BatchNorm1d(1024, eps=0.8, momentum=0.1, affine=True, track_running_stats=True)\n",
            "    (10): LeakyReLU(negative_slope=0.2, inplace=True)\n",
            "    (11): Linear(in_features=1024, out_features=784, bias=True)\n",
            "    (12): Tanh()\n",
            "  )\n",
            ")>\n",
            "<bound method Module.parameters of Expert(\n",
            "  (model): Sequential(\n",
            "    (0): Linear(in_features=784, out_features=128, bias=True)\n",
            "    (1): LeakyReLU(negative_slope=0.2, inplace=True)\n",
            "    (2): Linear(in_features=128, out_features=256, bias=True)\n",
            "    (3): BatchNorm1d(256, eps=0.8, momentum=0.1, affine=True, track_running_stats=True)\n",
            "    (4): LeakyReLU(negative_slope=0.2, inplace=True)\n",
            "    (5): Linear(in_features=256, out_features=512, bias=True)\n",
            "    (6): BatchNorm1d(512, eps=0.8, momentum=0.1, affine=True, track_running_stats=True)\n",
            "    (7): LeakyReLU(negative_slope=0.2, inplace=True)\n",
            "    (8): Linear(in_features=512, out_features=1024, bias=True)\n",
            "    (9): BatchNorm1d(1024, eps=0.8, momentum=0.1, affine=True, track_running_stats=True)\n",
            "    (10): LeakyReLU(negative_slope=0.2, inplace=True)\n",
            "    (11): Linear(in_features=1024, out_features=784, bias=True)\n",
            "    (12): Tanh()\n",
            "  )\n",
            ")>\n",
            "<bound method Module.parameters of Expert(\n",
            "  (model): Sequential(\n",
            "    (0): Linear(in_features=784, out_features=128, bias=True)\n",
            "    (1): LeakyReLU(negative_slope=0.2, inplace=True)\n",
            "    (2): Linear(in_features=128, out_features=256, bias=True)\n",
            "    (3): BatchNorm1d(256, eps=0.8, momentum=0.1, affine=True, track_running_stats=True)\n",
            "    (4): LeakyReLU(negative_slope=0.2, inplace=True)\n",
            "    (5): Linear(in_features=256, out_features=512, bias=True)\n",
            "    (6): BatchNorm1d(512, eps=0.8, momentum=0.1, affine=True, track_running_stats=True)\n",
            "    (7): LeakyReLU(negative_slope=0.2, inplace=True)\n",
            "    (8): Linear(in_features=512, out_features=1024, bias=True)\n",
            "    (9): BatchNorm1d(1024, eps=0.8, momentum=0.1, affine=True, track_running_stats=True)\n",
            "    (10): LeakyReLU(negative_slope=0.2, inplace=True)\n",
            "    (11): Linear(in_features=1024, out_features=784, bias=True)\n",
            "    (12): Tanh()\n",
            "  )\n",
            ")>\n",
            "<bound method Module.parameters of Expert(\n",
            "  (model): Sequential(\n",
            "    (0): Linear(in_features=784, out_features=128, bias=True)\n",
            "    (1): LeakyReLU(negative_slope=0.2, inplace=True)\n",
            "    (2): Linear(in_features=128, out_features=256, bias=True)\n",
            "    (3): BatchNorm1d(256, eps=0.8, momentum=0.1, affine=True, track_running_stats=True)\n",
            "    (4): LeakyReLU(negative_slope=0.2, inplace=True)\n",
            "    (5): Linear(in_features=256, out_features=512, bias=True)\n",
            "    (6): BatchNorm1d(512, eps=0.8, momentum=0.1, affine=True, track_running_stats=True)\n",
            "    (7): LeakyReLU(negative_slope=0.2, inplace=True)\n",
            "    (8): Linear(in_features=512, out_features=1024, bias=True)\n",
            "    (9): BatchNorm1d(1024, eps=0.8, momentum=0.1, affine=True, track_running_stats=True)\n",
            "    (10): LeakyReLU(negative_slope=0.2, inplace=True)\n",
            "    (11): Linear(in_features=1024, out_features=784, bias=True)\n",
            "    (12): Tanh()\n",
            "  )\n",
            ")>\n"
          ]
        }
      ]
    },
    {
      "cell_type": "code",
      "source": [
        "for batch in data_train:\n",
        "    x_canonical, x_transf = batch\n",
        "    print(x_canonical.size(0))\n",
        "    print(x_transf.shape)\n",
        "    print(x_transf.view(x_transf.size(0), -1).shape)\n",
        "    break"
      ],
      "metadata": {
        "colab": {
          "base_uri": "https://localhost:8080/"
        },
        "id": "Mxib8FzIpku0",
        "outputId": "2994b001-04bb-4743-bfe7-c98f4585f21b"
      },
      "execution_count": null,
      "outputs": [
        {
          "output_type": "stream",
          "name": "stdout",
          "text": [
            "128\n",
            "torch.Size([128])\n",
            "torch.Size([128, 1])\n"
          ]
        }
      ]
    },
    {
      "cell_type": "code",
      "source": [
        "# Optimizers\n",
        "optimizers_E = []\n",
        "for i in range(num_experts):\n",
        "    if optimizer_experts == 'adam':\n",
        "        optimizer_E = torch.optim.Adam(experts[i].parameters(), lr=learning_rate_expert,\n",
        "                                        weight_decay=weight_decay)\n",
        "    elif optimizer_experts == 'sgd':\n",
        "        optimizer_E = torch.optim.SGD(experts[i].parameters(), lr=learning_rate_expert,\n",
        "                                      weight_decay=weight_decay)\n",
        "    else:\n",
        "        raise NotImplementedError\n",
        "    optimizers_E.append(optimizer_E)\n",
        "\n",
        "if optimizer_discriminator == 'adam':\n",
        "    optimizer_D = torch.optim.Adam(discriminator.parameters(), lr=learning_rate_discriminator,\n",
        "                                    weight_decay=weight_decay)\n",
        "elif optimizer_discriminator == 'sgd':\n",
        "    optimizer_D = torch.optim.SGD(discriminator.parameters(), lr=learning_rate_discriminator,\n",
        "                                    weight_decay=weight_decay)"
      ],
      "metadata": {
        "id": "ui8oNaL5kNKu"
      },
      "execution_count": null,
      "outputs": []
    },
    {
      "cell_type": "code",
      "source": [
        "# Training\n",
        "for epoch in range(epochs):\n",
        "    train_system(epoch, experts, discriminator, optimizers_E, optimizer_D, criterion, data_train, writer)\n",
        "\n",
        "    if epoch % log_interval == 0 or epoch == epochs-1:\n",
        "        torch.save(discriminator.state_dict(), checkpt_dir + '/{}_D.pth'.format(name))\n",
        "        for i in range(num_experts):\n",
        "            torch.save(experts[i].state_dict(), checkpt_dir + '/{}_E_{}.pth'.format(name, i+1))"
      ],
      "metadata": {
        "id": "72r4wwfXkiAE"
      },
      "execution_count": null,
      "outputs": []
    }
  ],
  "metadata": {
    "colab": {
      "provenance": [],
      "authorship_tag": "ABX9TyM0FyJUG1mEqrPRmBD6vOUn",
      "include_colab_link": true
    },
    "kernelspec": {
      "display_name": "Python 3",
      "name": "python3"
    },
    "language_info": {
      "name": "python"
    }
  },
  "nbformat": 4,
  "nbformat_minor": 0
}